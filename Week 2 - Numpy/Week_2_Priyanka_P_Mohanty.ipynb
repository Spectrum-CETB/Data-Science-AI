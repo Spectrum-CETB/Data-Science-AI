{
  "nbformat": 4,
  "nbformat_minor": 0,
  "metadata": {
    "colab": {
      "name": "Week_2_Priyanka_P_Mohanty.ipynb",
      "provenance": [],
      "collapsed_sections": []
    },
    "kernelspec": {
      "name": "python3",
      "display_name": "Python 3"
    }
  },
  "cells": [
    {
      "cell_type": "markdown",
      "metadata": {
        "id": "2QwjmEPDH3_y"
      },
      "source": [
        "Question 1 :- Your first task will be to create two numpy arrays, one with the help of linspace and another with the help of arange. \n",
        "\n",
        "The first array will be an array of length 20, having multiples of 2, starting from 20.\n",
        "The second array will be an array of length 20, having multiples of 3, starting from 21, of type integer.\n",
        "\n",
        "Note :- There shouldn't be elements repeated in any of the lists, that is, all the elements should be unique."
      ]
    },
    {
      "cell_type": "code",
      "metadata": {
        "id": "sJ5eIvVVRrZo",
        "colab": {
          "base_uri": "https://localhost:8080/"
        },
        "outputId": "e3e71bc4-7fd8-4e06-d3d1-6c322bd7e49b"
      },
      "source": [
        "import numpy as np\r\n",
        "arr1=np.linspace(20,60,20,dtype=int,endpoint=False)\r\n",
        "arr2=np.arange(21,81,3,dtype=int)\r\n",
        "print(\"multiples of 2:\",arr1)\r\n",
        "print(\"multiples of 3:\",arr2)"
      ],
      "execution_count": 22,
      "outputs": [
        {
          "output_type": "stream",
          "text": [
            "multiples of 2: [20 22 24 26 28 30 32 34 36 38 40 42 44 46 48 50 52 54 56 58]\n",
            "multiples of 3: [21 24 27 30 33 36 39 42 45 48 51 54 57 60 63 66 69 72 75 78]\n"
          ],
          "name": "stdout"
        }
      ]
    },
    {
      "cell_type": "markdown",
      "metadata": {
        "id": "aFqGCGCvIJN-"
      },
      "source": [
        "Question 2:- From the two numpy arrays above, write a simple python script to find the common elements between both the arrays."
      ]
    },
    {
      "cell_type": "code",
      "metadata": {
        "id": "7UhN48BeOzAT",
        "colab": {
          "base_uri": "https://localhost:8080/"
        },
        "outputId": "a3f5350d-92c0-47ed-e4bb-b25855797b3a"
      },
      "source": [
        "print(np.intersect1d(arr1,arr2))"
      ],
      "execution_count": 23,
      "outputs": [
        {
          "output_type": "stream",
          "text": [
            "[24 30 36 42 48 54]\n"
          ],
          "name": "stdout"
        }
      ]
    },
    {
      "cell_type": "markdown",
      "metadata": {
        "id": "gejiKP9KLKTH"
      },
      "source": [
        "Question 3 - Now, since you have two arrays of equal length, using numpy, vertically stack both the arrays so as to form a 2D array of dimensions (2, 20)"
      ]
    },
    {
      "cell_type": "code",
      "metadata": {
        "id": "7B_jEG3NOkU6",
        "colab": {
          "base_uri": "https://localhost:8080/"
        },
        "outputId": "958046bd-de09-421f-ce9a-0fd72eec89df"
      },
      "source": [
        "print(np.vstack((arr1,arr2)))"
      ],
      "execution_count": 24,
      "outputs": [
        {
          "output_type": "stream",
          "text": [
            "[[20 22 24 26 28 30 32 34 36 38 40 42 44 46 48 50 52 54 56 58]\n",
            " [21 24 27 30 33 36 39 42 45 48 51 54 57 60 63 66 69 72 75 78]]\n"
          ],
          "name": "stdout"
        }
      ]
    },
    {
      "cell_type": "markdown",
      "metadata": {
        "id": "ZPApc_xEO1LJ"
      },
      "source": [
        "Question 4 :- Reshape the 2D array formed in Question 3, into a new array of shape (8, 5)"
      ]
    },
    {
      "cell_type": "code",
      "metadata": {
        "id": "rP3QYmG-Q4l9",
        "colab": {
          "base_uri": "https://localhost:8080/"
        },
        "outputId": "00b6b304-1201-4105-df22-1820b032cc99"
      },
      "source": [
        "new_arr=(np.vstack((arr1,arr2))).reshape(8,5)\r\n",
        "print(new_arr)"
      ],
      "execution_count": 25,
      "outputs": [
        {
          "output_type": "stream",
          "text": [
            "[[20 22 24 26 28]\n",
            " [30 32 34 36 38]\n",
            " [40 42 44 46 48]\n",
            " [50 52 54 56 58]\n",
            " [21 24 27 30 33]\n",
            " [36 39 42 45 48]\n",
            " [51 54 57 60 63]\n",
            " [66 69 72 75 78]]\n"
          ],
          "name": "stdout"
        }
      ]
    },
    {
      "cell_type": "markdown",
      "metadata": {
        "id": "ejwRuWpPQqoA"
      },
      "source": [
        "Question 5:- Now, using the new array of shape (8, 5), distribute this array into 8 different 1D arrays representing the 8 rows of the 2D array, and then using numpy, compute the mean of each row."
      ]
    },
    {
      "cell_type": "code",
      "metadata": {
        "id": "bitcY7AiRosp",
        "colab": {
          "base_uri": "https://localhost:8080/"
        },
        "outputId": "267f53f5-11d6-4cdb-b38d-76964a1dd5f9"
      },
      "source": [
        "for i in new_arr:\r\n",
        "  print(i)\r\n",
        "  print(np.mean(i))"
      ],
      "execution_count": 27,
      "outputs": [
        {
          "output_type": "stream",
          "text": [
            "[20 22 24 26 28]\n",
            "24.0\n",
            "[30 32 34 36 38]\n",
            "34.0\n",
            "[40 42 44 46 48]\n",
            "44.0\n",
            "[50 52 54 56 58]\n",
            "54.0\n",
            "[21 24 27 30 33]\n",
            "27.0\n",
            "[36 39 42 45 48]\n",
            "42.0\n",
            "[51 54 57 60 63]\n",
            "57.0\n",
            "[66 69 72 75 78]\n",
            "72.0\n"
          ],
          "name": "stdout"
        }
      ]
    },
    {
      "cell_type": "markdown",
      "metadata": {
        "id": "JTr5HPJbRfVz"
      },
      "source": [
        "Question 6:- Finally, find the mean and median of the 2D array using numpy, and print the absolute difference between them."
      ]
    },
    {
      "cell_type": "code",
      "metadata": {
        "id": "4U9k5AykQ3an",
        "colab": {
          "base_uri": "https://localhost:8080/"
        },
        "outputId": "ab44b015-0f3f-4b39-8209-e4d41b88d553"
      },
      "source": [
        "print(\"mean is\",np.mean(new_arr))\r\n",
        "print(\"median is\",np.median(new_arr))\r\n",
        "print(np.absolute(np.mean(new_arr)-np.median(new_arr)))"
      ],
      "execution_count": 28,
      "outputs": [
        {
          "output_type": "stream",
          "text": [
            "mean is 44.25\n",
            "median is 43.0\n",
            "1.25\n"
          ],
          "name": "stdout"
        }
      ]
    }
  ]
}