{
  "nbformat": 4,
  "nbformat_minor": 0,
  "metadata": {
    "colab": {
      "name": "Week_2_Assessment.ipynb",
      "provenance": []
    },
    "kernelspec": {
      "name": "python3",
      "display_name": "Python 3"
    }
  },
  "cells": [
    {
      "cell_type": "markdown",
      "metadata": {
        "id": "2QwjmEPDH3_y"
      },
      "source": [
        "Question 1 :- Your first task will be to create two numpy arrays, one with the help of linspace and another with the help of arange. \n",
        "\n",
        "The first array will be an array of length 20, having multiples of 2, starting from 20.\n",
        "The second array will be an array of length 20, having multiples of 3, starting from 21, of type integer.\n",
        "\n",
        "Note :- There shouldn't be elements repeated in any of the lists, that is, all the elements should be unique."
      ]
    },
    {
      "cell_type": "code",
      "metadata": {
        "id": "sJ5eIvVVRrZo",
        "colab": {
          "base_uri": "https://localhost:8080/"
        },
        "outputId": "2498e612-20be-4b19-f964-fa6ca1ad3988"
      },
      "source": [
        "import numpy as np\n",
        "a=np.linspace(20,60,20,dtype=int,endpoint = False)\n",
        "b=np.arange(21,81,3,dtype=int)\n",
        "\n",
        "print(\"Multiples of 2:\",a)\n",
        "print(\"Multiples of 3:\",b)"
      ],
      "execution_count": 10,
      "outputs": [
        {
          "output_type": "stream",
          "text": [
            "Multiples of 2: [20 22 24 26 28 30 32 34 36 38 40 42 44 46 48 50 52 54 56 58]\n",
            "Multiples of 3: [21 24 27 30 33 36 39 42 45 48 51 54 57 60 63 66 69 72 75 78]\n"
          ],
          "name": "stdout"
        }
      ]
    },
    {
      "cell_type": "markdown",
      "metadata": {
        "id": "aFqGCGCvIJN-"
      },
      "source": [
        "Question 2:- From the two numpy arrays above, write a simple python script to find the common elements between both the arrays."
      ]
    },
    {
      "cell_type": "code",
      "metadata": {
        "id": "7UhN48BeOzAT",
        "colab": {
          "base_uri": "https://localhost:8080/"
        },
        "outputId": "ad91eebb-8fea-438c-e213-012640390753"
      },
      "source": [
        "print(np.intersect1d(a,b))"
      ],
      "execution_count": 11,
      "outputs": [
        {
          "output_type": "stream",
          "text": [
            "[24 30 36 42 48 54]\n"
          ],
          "name": "stdout"
        }
      ]
    },
    {
      "cell_type": "markdown",
      "metadata": {
        "id": "gejiKP9KLKTH"
      },
      "source": [
        "Question 3 - Now, since you have two arrays of equal length, using numpy, vertically stack both the arrays so as to form a 2D array of dimensions (2, 20)"
      ]
    },
    {
      "cell_type": "code",
      "metadata": {
        "id": "7B_jEG3NOkU6",
        "colab": {
          "base_uri": "https://localhost:8080/"
        },
        "outputId": "7bd218c3-10f8-47c3-d28c-e84457e4e463"
      },
      "source": [
        "v=np.vstack((a,b))\n",
        "print(v)"
      ],
      "execution_count": 13,
      "outputs": [
        {
          "output_type": "stream",
          "text": [
            "[[20 22 24 26 28 30 32 34 36 38 40 42 44 46 48 50 52 54 56 58]\n",
            " [21 24 27 30 33 36 39 42 45 48 51 54 57 60 63 66 69 72 75 78]]\n"
          ],
          "name": "stdout"
        }
      ]
    },
    {
      "cell_type": "markdown",
      "metadata": {
        "id": "ZPApc_xEO1LJ"
      },
      "source": [
        "Question 4 :- Reshape the 2D array formed in Question 3, into a new array of shape (8, 5)"
      ]
    },
    {
      "cell_type": "code",
      "metadata": {
        "id": "rP3QYmG-Q4l9",
        "colab": {
          "base_uri": "https://localhost:8080/"
        },
        "outputId": "7fdeff0d-e200-4e14-8ef2-41b9002240a2"
      },
      "source": [
        "c=v.reshape(8,5)\n",
        "print(c)"
      ],
      "execution_count": 14,
      "outputs": [
        {
          "output_type": "stream",
          "text": [
            "[[20 22 24 26 28]\n",
            " [30 32 34 36 38]\n",
            " [40 42 44 46 48]\n",
            " [50 52 54 56 58]\n",
            " [21 24 27 30 33]\n",
            " [36 39 42 45 48]\n",
            " [51 54 57 60 63]\n",
            " [66 69 72 75 78]]\n"
          ],
          "name": "stdout"
        }
      ]
    },
    {
      "cell_type": "markdown",
      "metadata": {
        "id": "ejwRuWpPQqoA"
      },
      "source": [
        "Question 5:- Now, using the new array of shape (8, 5), distribute this array into 8 different 1D arrays representing the 8 rows of the 2D array, and then using numpy, compute the mean of each row."
      ]
    },
    {
      "cell_type": "code",
      "metadata": {
        "id": "bitcY7AiRosp",
        "colab": {
          "base_uri": "https://localhost:8080/"
        },
        "outputId": "a21d01a7-52ac-499a-bd09-b9c5038ebef4"
      },
      "source": [
        "for i in range(len(c)):\n",
        "  print(c[i])\n",
        "  print(np.mean(c[i]))"
      ],
      "execution_count": 15,
      "outputs": [
        {
          "output_type": "stream",
          "text": [
            "[20 22 24 26 28]\n",
            "24.0\n",
            "[30 32 34 36 38]\n",
            "34.0\n",
            "[40 42 44 46 48]\n",
            "44.0\n",
            "[50 52 54 56 58]\n",
            "54.0\n",
            "[21 24 27 30 33]\n",
            "27.0\n",
            "[36 39 42 45 48]\n",
            "42.0\n",
            "[51 54 57 60 63]\n",
            "57.0\n",
            "[66 69 72 75 78]\n",
            "72.0\n"
          ],
          "name": "stdout"
        }
      ]
    },
    {
      "cell_type": "markdown",
      "metadata": {
        "id": "JTr5HPJbRfVz"
      },
      "source": [
        "Question 6:- Finally, find the mean and median of the 2D array using numpy, and print the absolute difference between them."
      ]
    },
    {
      "cell_type": "code",
      "metadata": {
        "id": "4U9k5AykQ3an",
        "colab": {
          "base_uri": "https://localhost:8080/"
        },
        "outputId": "2a69dc97-638c-4be2-891b-51a3e1667d3b"
      },
      "source": [
        "mean=np.mean(c)\n",
        "median=np.median(c)\n",
        "print(mean)\n",
        "print(median)\n",
        "print(np.absolute(mean-median))"
      ],
      "execution_count": 16,
      "outputs": [
        {
          "output_type": "stream",
          "text": [
            "44.25\n",
            "43.0\n",
            "1.25\n"
          ],
          "name": "stdout"
        }
      ]
    }
  ]
}