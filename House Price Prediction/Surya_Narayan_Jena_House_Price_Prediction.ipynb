{
  "nbformat": 4,
  "nbformat_minor": 0,
  "metadata": {
    "colab": {
      "name": "House_Price_Prediction_(Surya_Narayan_Jena)",
      "provenance": [],
      "collapsed_sections": [],
      "mount_file_id": "1rKcgSgZQPyQ91stahxZgVUSEFG2gasRG",
      "authorship_tag": "ABX9TyMJVjzUrSLtwUnXANa0R7Rw",
      "include_colab_link": true
    },
    "kernelspec": {
      "display_name": "Python 3",
      "name": "python3"
    },
    "language_info": {
      "name": "python"
    }
  },
  "cells": [
    {
      "cell_type": "markdown",
      "metadata": {
        "id": "view-in-github",
        "colab_type": "text"
      },
      "source": [
        "<a href=\"https://colab.research.google.com/github/atulsnjena/Data-Science-AI/blob/main/House%20Price%20Prediction/Surya_Narayan_Jena_House_Price_Prediction.ipynb\" target=\"_parent\"><img src=\"https://colab.research.google.com/assets/colab-badge.svg\" alt=\"Open In Colab\"/></a>"
      ]
    },
    {
      "cell_type": "markdown",
      "metadata": {
        "id": "SvlriANfx4nb"
      },
      "source": [
        "# Table of Contents\n",
        "- Importing Libraries\n",
        "- Data Loading\n",
        "- Data Inspecting\n",
        "- EDA\n",
        "- Data Preprocessing\n",
        "- Linear Regression\n",
        "- Decision Tree Regressor\n",
        "- KNeighborsRegressor\n",
        "- RandomForestRegressor\n",
        "- XGBoost"
      ]
    },
    {
      "cell_type": "markdown",
      "metadata": {
        "id": "OGl2wY2jxhoo"
      },
      "source": [
        "# Importing Libraries"
      ]
    },
    {
      "cell_type": "code",
      "metadata": {
        "id": "b-mmOImwSYQJ"
      },
      "source": [
        "import pandas as pd\n",
        "import numpy as np\n",
        "import matplotlib.pyplot as plt\n",
        "import seaborn as sns\n",
        "%matplotlib inline\n",
        "from sklearn.preprocessing import LabelEncoder\n",
        "from sklearn.model_selection import train_test_split\n",
        "from sklearn.preprocessing import StandardScaler\n",
        "from sklearn.model_selection import GridSearchCV\n",
        "from sklearn.linear_model import LinearRegression\n",
        "from sklearn.metrics import r2_score\n",
        "from sklearn.tree import DecisionTreeRegressor\n",
        "from sklearn.neighbors import KNeighborsRegressor\n",
        "from sklearn.ensemble import RandomForestRegressor\n",
        "from xgboost import XGBRegressor,DMatrix\n",
        "from scipy import stats"
      ],
      "execution_count": 1,
      "outputs": []
    },
    {
      "cell_type": "markdown",
      "metadata": {
        "id": "M5MWp4ANxmr6"
      },
      "source": [
        "# Data Loading"
      ]
    },
    {
      "cell_type": "code",
      "metadata": {
        "colab": {
          "base_uri": "https://localhost:8080/",
          "height": 253
        },
        "id": "9fTfIZtVSk-d",
        "outputId": "92d86fb4-5b26-40c5-c47a-c24e5e4454b0"
      },
      "source": [
        "df = pd.read_csv('/content/drive/MyDrive/Colab Notebooks/housing_price.csv')\n",
        "df.head()"
      ],
      "execution_count": 2,
      "outputs": [
        {
          "output_type": "execute_result",
          "data": {
            "text/html": [
              "<div>\n",
              "<style scoped>\n",
              "    .dataframe tbody tr th:only-of-type {\n",
              "        vertical-align: middle;\n",
              "    }\n",
              "\n",
              "    .dataframe tbody tr th {\n",
              "        vertical-align: top;\n",
              "    }\n",
              "\n",
              "    .dataframe thead th {\n",
              "        text-align: right;\n",
              "    }\n",
              "</style>\n",
              "<table border=\"1\" class=\"dataframe\">\n",
              "  <thead>\n",
              "    <tr style=\"text-align: right;\">\n",
              "      <th></th>\n",
              "      <th>Id</th>\n",
              "      <th>MSSubClass</th>\n",
              "      <th>MSZoning</th>\n",
              "      <th>LotFrontage</th>\n",
              "      <th>LotArea</th>\n",
              "      <th>Street</th>\n",
              "      <th>Alley</th>\n",
              "      <th>LotShape</th>\n",
              "      <th>LandContour</th>\n",
              "      <th>Utilities</th>\n",
              "      <th>LotConfig</th>\n",
              "      <th>LandSlope</th>\n",
              "      <th>Neighborhood</th>\n",
              "      <th>Condition1</th>\n",
              "      <th>Condition2</th>\n",
              "      <th>BldgType</th>\n",
              "      <th>HouseStyle</th>\n",
              "      <th>OverallQual</th>\n",
              "      <th>OverallCond</th>\n",
              "      <th>YearBuilt</th>\n",
              "      <th>YearRemodAdd</th>\n",
              "      <th>RoofStyle</th>\n",
              "      <th>RoofMatl</th>\n",
              "      <th>Exterior1st</th>\n",
              "      <th>Exterior2nd</th>\n",
              "      <th>MasVnrType</th>\n",
              "      <th>MasVnrArea</th>\n",
              "      <th>ExterQual</th>\n",
              "      <th>ExterCond</th>\n",
              "      <th>Foundation</th>\n",
              "      <th>BsmtQual</th>\n",
              "      <th>BsmtCond</th>\n",
              "      <th>BsmtExposure</th>\n",
              "      <th>BsmtFinType1</th>\n",
              "      <th>BsmtFinSF1</th>\n",
              "      <th>BsmtFinType2</th>\n",
              "      <th>BsmtFinSF2</th>\n",
              "      <th>BsmtUnfSF</th>\n",
              "      <th>TotalBsmtSF</th>\n",
              "      <th>Heating</th>\n",
              "      <th>...</th>\n",
              "      <th>CentralAir</th>\n",
              "      <th>Electrical</th>\n",
              "      <th>1stFlrSF</th>\n",
              "      <th>2ndFlrSF</th>\n",
              "      <th>LowQualFinSF</th>\n",
              "      <th>GrLivArea</th>\n",
              "      <th>BsmtFullBath</th>\n",
              "      <th>BsmtHalfBath</th>\n",
              "      <th>FullBath</th>\n",
              "      <th>HalfBath</th>\n",
              "      <th>BedroomAbvGr</th>\n",
              "      <th>KitchenAbvGr</th>\n",
              "      <th>KitchenQual</th>\n",
              "      <th>TotRmsAbvGrd</th>\n",
              "      <th>Functional</th>\n",
              "      <th>Fireplaces</th>\n",
              "      <th>FireplaceQu</th>\n",
              "      <th>GarageType</th>\n",
              "      <th>GarageYrBlt</th>\n",
              "      <th>GarageFinish</th>\n",
              "      <th>GarageCars</th>\n",
              "      <th>GarageArea</th>\n",
              "      <th>GarageQual</th>\n",
              "      <th>GarageCond</th>\n",
              "      <th>PavedDrive</th>\n",
              "      <th>WoodDeckSF</th>\n",
              "      <th>OpenPorchSF</th>\n",
              "      <th>EnclosedPorch</th>\n",
              "      <th>3SsnPorch</th>\n",
              "      <th>ScreenPorch</th>\n",
              "      <th>PoolArea</th>\n",
              "      <th>PoolQC</th>\n",
              "      <th>Fence</th>\n",
              "      <th>MiscFeature</th>\n",
              "      <th>MiscVal</th>\n",
              "      <th>MoSold</th>\n",
              "      <th>YrSold</th>\n",
              "      <th>SaleType</th>\n",
              "      <th>SaleCondition</th>\n",
              "      <th>SalePrice</th>\n",
              "    </tr>\n",
              "  </thead>\n",
              "  <tbody>\n",
              "    <tr>\n",
              "      <th>0</th>\n",
              "      <td>1</td>\n",
              "      <td>60</td>\n",
              "      <td>RL</td>\n",
              "      <td>65.0</td>\n",
              "      <td>8450</td>\n",
              "      <td>Pave</td>\n",
              "      <td>NaN</td>\n",
              "      <td>Reg</td>\n",
              "      <td>Lvl</td>\n",
              "      <td>AllPub</td>\n",
              "      <td>Inside</td>\n",
              "      <td>Gtl</td>\n",
              "      <td>CollgCr</td>\n",
              "      <td>Norm</td>\n",
              "      <td>Norm</td>\n",
              "      <td>1Fam</td>\n",
              "      <td>2Story</td>\n",
              "      <td>7</td>\n",
              "      <td>5</td>\n",
              "      <td>2003</td>\n",
              "      <td>2003</td>\n",
              "      <td>Gable</td>\n",
              "      <td>CompShg</td>\n",
              "      <td>VinylSd</td>\n",
              "      <td>VinylSd</td>\n",
              "      <td>BrkFace</td>\n",
              "      <td>196.0</td>\n",
              "      <td>Gd</td>\n",
              "      <td>TA</td>\n",
              "      <td>PConc</td>\n",
              "      <td>Gd</td>\n",
              "      <td>TA</td>\n",
              "      <td>No</td>\n",
              "      <td>GLQ</td>\n",
              "      <td>706</td>\n",
              "      <td>Unf</td>\n",
              "      <td>0</td>\n",
              "      <td>150</td>\n",
              "      <td>856</td>\n",
              "      <td>GasA</td>\n",
              "      <td>...</td>\n",
              "      <td>Y</td>\n",
              "      <td>SBrkr</td>\n",
              "      <td>856</td>\n",
              "      <td>854</td>\n",
              "      <td>0</td>\n",
              "      <td>1710</td>\n",
              "      <td>1</td>\n",
              "      <td>0</td>\n",
              "      <td>2</td>\n",
              "      <td>1</td>\n",
              "      <td>3</td>\n",
              "      <td>1</td>\n",
              "      <td>Gd</td>\n",
              "      <td>8</td>\n",
              "      <td>Typ</td>\n",
              "      <td>0</td>\n",
              "      <td>NaN</td>\n",
              "      <td>Attchd</td>\n",
              "      <td>2003.0</td>\n",
              "      <td>RFn</td>\n",
              "      <td>2</td>\n",
              "      <td>548</td>\n",
              "      <td>TA</td>\n",
              "      <td>TA</td>\n",
              "      <td>Y</td>\n",
              "      <td>0</td>\n",
              "      <td>61</td>\n",
              "      <td>0</td>\n",
              "      <td>0</td>\n",
              "      <td>0</td>\n",
              "      <td>0</td>\n",
              "      <td>NaN</td>\n",
              "      <td>NaN</td>\n",
              "      <td>NaN</td>\n",
              "      <td>0</td>\n",
              "      <td>2</td>\n",
              "      <td>2008</td>\n",
              "      <td>WD</td>\n",
              "      <td>Normal</td>\n",
              "      <td>208500</td>\n",
              "    </tr>\n",
              "    <tr>\n",
              "      <th>1</th>\n",
              "      <td>2</td>\n",
              "      <td>20</td>\n",
              "      <td>RL</td>\n",
              "      <td>80.0</td>\n",
              "      <td>9600</td>\n",
              "      <td>Pave</td>\n",
              "      <td>NaN</td>\n",
              "      <td>Reg</td>\n",
              "      <td>Lvl</td>\n",
              "      <td>AllPub</td>\n",
              "      <td>FR2</td>\n",
              "      <td>Gtl</td>\n",
              "      <td>Veenker</td>\n",
              "      <td>Feedr</td>\n",
              "      <td>Norm</td>\n",
              "      <td>1Fam</td>\n",
              "      <td>1Story</td>\n",
              "      <td>6</td>\n",
              "      <td>8</td>\n",
              "      <td>1976</td>\n",
              "      <td>1976</td>\n",
              "      <td>Gable</td>\n",
              "      <td>CompShg</td>\n",
              "      <td>MetalSd</td>\n",
              "      <td>MetalSd</td>\n",
              "      <td>None</td>\n",
              "      <td>0.0</td>\n",
              "      <td>TA</td>\n",
              "      <td>TA</td>\n",
              "      <td>CBlock</td>\n",
              "      <td>Gd</td>\n",
              "      <td>TA</td>\n",
              "      <td>Gd</td>\n",
              "      <td>ALQ</td>\n",
              "      <td>978</td>\n",
              "      <td>Unf</td>\n",
              "      <td>0</td>\n",
              "      <td>284</td>\n",
              "      <td>1262</td>\n",
              "      <td>GasA</td>\n",
              "      <td>...</td>\n",
              "      <td>Y</td>\n",
              "      <td>SBrkr</td>\n",
              "      <td>1262</td>\n",
              "      <td>0</td>\n",
              "      <td>0</td>\n",
              "      <td>1262</td>\n",
              "      <td>0</td>\n",
              "      <td>1</td>\n",
              "      <td>2</td>\n",
              "      <td>0</td>\n",
              "      <td>3</td>\n",
              "      <td>1</td>\n",
              "      <td>TA</td>\n",
              "      <td>6</td>\n",
              "      <td>Typ</td>\n",
              "      <td>1</td>\n",
              "      <td>TA</td>\n",
              "      <td>Attchd</td>\n",
              "      <td>1976.0</td>\n",
              "      <td>RFn</td>\n",
              "      <td>2</td>\n",
              "      <td>460</td>\n",
              "      <td>TA</td>\n",
              "      <td>TA</td>\n",
              "      <td>Y</td>\n",
              "      <td>298</td>\n",
              "      <td>0</td>\n",
              "      <td>0</td>\n",
              "      <td>0</td>\n",
              "      <td>0</td>\n",
              "      <td>0</td>\n",
              "      <td>NaN</td>\n",
              "      <td>NaN</td>\n",
              "      <td>NaN</td>\n",
              "      <td>0</td>\n",
              "      <td>5</td>\n",
              "      <td>2007</td>\n",
              "      <td>WD</td>\n",
              "      <td>Normal</td>\n",
              "      <td>181500</td>\n",
              "    </tr>\n",
              "    <tr>\n",
              "      <th>2</th>\n",
              "      <td>3</td>\n",
              "      <td>60</td>\n",
              "      <td>RL</td>\n",
              "      <td>68.0</td>\n",
              "      <td>11250</td>\n",
              "      <td>Pave</td>\n",
              "      <td>NaN</td>\n",
              "      <td>IR1</td>\n",
              "      <td>Lvl</td>\n",
              "      <td>AllPub</td>\n",
              "      <td>Inside</td>\n",
              "      <td>Gtl</td>\n",
              "      <td>CollgCr</td>\n",
              "      <td>Norm</td>\n",
              "      <td>Norm</td>\n",
              "      <td>1Fam</td>\n",
              "      <td>2Story</td>\n",
              "      <td>7</td>\n",
              "      <td>5</td>\n",
              "      <td>2001</td>\n",
              "      <td>2002</td>\n",
              "      <td>Gable</td>\n",
              "      <td>CompShg</td>\n",
              "      <td>VinylSd</td>\n",
              "      <td>VinylSd</td>\n",
              "      <td>BrkFace</td>\n",
              "      <td>162.0</td>\n",
              "      <td>Gd</td>\n",
              "      <td>TA</td>\n",
              "      <td>PConc</td>\n",
              "      <td>Gd</td>\n",
              "      <td>TA</td>\n",
              "      <td>Mn</td>\n",
              "      <td>GLQ</td>\n",
              "      <td>486</td>\n",
              "      <td>Unf</td>\n",
              "      <td>0</td>\n",
              "      <td>434</td>\n",
              "      <td>920</td>\n",
              "      <td>GasA</td>\n",
              "      <td>...</td>\n",
              "      <td>Y</td>\n",
              "      <td>SBrkr</td>\n",
              "      <td>920</td>\n",
              "      <td>866</td>\n",
              "      <td>0</td>\n",
              "      <td>1786</td>\n",
              "      <td>1</td>\n",
              "      <td>0</td>\n",
              "      <td>2</td>\n",
              "      <td>1</td>\n",
              "      <td>3</td>\n",
              "      <td>1</td>\n",
              "      <td>Gd</td>\n",
              "      <td>6</td>\n",
              "      <td>Typ</td>\n",
              "      <td>1</td>\n",
              "      <td>TA</td>\n",
              "      <td>Attchd</td>\n",
              "      <td>2001.0</td>\n",
              "      <td>RFn</td>\n",
              "      <td>2</td>\n",
              "      <td>608</td>\n",
              "      <td>TA</td>\n",
              "      <td>TA</td>\n",
              "      <td>Y</td>\n",
              "      <td>0</td>\n",
              "      <td>42</td>\n",
              "      <td>0</td>\n",
              "      <td>0</td>\n",
              "      <td>0</td>\n",
              "      <td>0</td>\n",
              "      <td>NaN</td>\n",
              "      <td>NaN</td>\n",
              "      <td>NaN</td>\n",
              "      <td>0</td>\n",
              "      <td>9</td>\n",
              "      <td>2008</td>\n",
              "      <td>WD</td>\n",
              "      <td>Normal</td>\n",
              "      <td>223500</td>\n",
              "    </tr>\n",
              "    <tr>\n",
              "      <th>3</th>\n",
              "      <td>4</td>\n",
              "      <td>70</td>\n",
              "      <td>RL</td>\n",
              "      <td>60.0</td>\n",
              "      <td>9550</td>\n",
              "      <td>Pave</td>\n",
              "      <td>NaN</td>\n",
              "      <td>IR1</td>\n",
              "      <td>Lvl</td>\n",
              "      <td>AllPub</td>\n",
              "      <td>Corner</td>\n",
              "      <td>Gtl</td>\n",
              "      <td>Crawfor</td>\n",
              "      <td>Norm</td>\n",
              "      <td>Norm</td>\n",
              "      <td>1Fam</td>\n",
              "      <td>2Story</td>\n",
              "      <td>7</td>\n",
              "      <td>5</td>\n",
              "      <td>1915</td>\n",
              "      <td>1970</td>\n",
              "      <td>Gable</td>\n",
              "      <td>CompShg</td>\n",
              "      <td>Wd Sdng</td>\n",
              "      <td>Wd Shng</td>\n",
              "      <td>None</td>\n",
              "      <td>0.0</td>\n",
              "      <td>TA</td>\n",
              "      <td>TA</td>\n",
              "      <td>BrkTil</td>\n",
              "      <td>TA</td>\n",
              "      <td>Gd</td>\n",
              "      <td>No</td>\n",
              "      <td>ALQ</td>\n",
              "      <td>216</td>\n",
              "      <td>Unf</td>\n",
              "      <td>0</td>\n",
              "      <td>540</td>\n",
              "      <td>756</td>\n",
              "      <td>GasA</td>\n",
              "      <td>...</td>\n",
              "      <td>Y</td>\n",
              "      <td>SBrkr</td>\n",
              "      <td>961</td>\n",
              "      <td>756</td>\n",
              "      <td>0</td>\n",
              "      <td>1717</td>\n",
              "      <td>1</td>\n",
              "      <td>0</td>\n",
              "      <td>1</td>\n",
              "      <td>0</td>\n",
              "      <td>3</td>\n",
              "      <td>1</td>\n",
              "      <td>Gd</td>\n",
              "      <td>7</td>\n",
              "      <td>Typ</td>\n",
              "      <td>1</td>\n",
              "      <td>Gd</td>\n",
              "      <td>Detchd</td>\n",
              "      <td>1998.0</td>\n",
              "      <td>Unf</td>\n",
              "      <td>3</td>\n",
              "      <td>642</td>\n",
              "      <td>TA</td>\n",
              "      <td>TA</td>\n",
              "      <td>Y</td>\n",
              "      <td>0</td>\n",
              "      <td>35</td>\n",
              "      <td>272</td>\n",
              "      <td>0</td>\n",
              "      <td>0</td>\n",
              "      <td>0</td>\n",
              "      <td>NaN</td>\n",
              "      <td>NaN</td>\n",
              "      <td>NaN</td>\n",
              "      <td>0</td>\n",
              "      <td>2</td>\n",
              "      <td>2006</td>\n",
              "      <td>WD</td>\n",
              "      <td>Abnorml</td>\n",
              "      <td>140000</td>\n",
              "    </tr>\n",
              "    <tr>\n",
              "      <th>4</th>\n",
              "      <td>5</td>\n",
              "      <td>60</td>\n",
              "      <td>RL</td>\n",
              "      <td>84.0</td>\n",
              "      <td>14260</td>\n",
              "      <td>Pave</td>\n",
              "      <td>NaN</td>\n",
              "      <td>IR1</td>\n",
              "      <td>Lvl</td>\n",
              "      <td>AllPub</td>\n",
              "      <td>FR2</td>\n",
              "      <td>Gtl</td>\n",
              "      <td>NoRidge</td>\n",
              "      <td>Norm</td>\n",
              "      <td>Norm</td>\n",
              "      <td>1Fam</td>\n",
              "      <td>2Story</td>\n",
              "      <td>8</td>\n",
              "      <td>5</td>\n",
              "      <td>2000</td>\n",
              "      <td>2000</td>\n",
              "      <td>Gable</td>\n",
              "      <td>CompShg</td>\n",
              "      <td>VinylSd</td>\n",
              "      <td>VinylSd</td>\n",
              "      <td>BrkFace</td>\n",
              "      <td>350.0</td>\n",
              "      <td>Gd</td>\n",
              "      <td>TA</td>\n",
              "      <td>PConc</td>\n",
              "      <td>Gd</td>\n",
              "      <td>TA</td>\n",
              "      <td>Av</td>\n",
              "      <td>GLQ</td>\n",
              "      <td>655</td>\n",
              "      <td>Unf</td>\n",
              "      <td>0</td>\n",
              "      <td>490</td>\n",
              "      <td>1145</td>\n",
              "      <td>GasA</td>\n",
              "      <td>...</td>\n",
              "      <td>Y</td>\n",
              "      <td>SBrkr</td>\n",
              "      <td>1145</td>\n",
              "      <td>1053</td>\n",
              "      <td>0</td>\n",
              "      <td>2198</td>\n",
              "      <td>1</td>\n",
              "      <td>0</td>\n",
              "      <td>2</td>\n",
              "      <td>1</td>\n",
              "      <td>4</td>\n",
              "      <td>1</td>\n",
              "      <td>Gd</td>\n",
              "      <td>9</td>\n",
              "      <td>Typ</td>\n",
              "      <td>1</td>\n",
              "      <td>TA</td>\n",
              "      <td>Attchd</td>\n",
              "      <td>2000.0</td>\n",
              "      <td>RFn</td>\n",
              "      <td>3</td>\n",
              "      <td>836</td>\n",
              "      <td>TA</td>\n",
              "      <td>TA</td>\n",
              "      <td>Y</td>\n",
              "      <td>192</td>\n",
              "      <td>84</td>\n",
              "      <td>0</td>\n",
              "      <td>0</td>\n",
              "      <td>0</td>\n",
              "      <td>0</td>\n",
              "      <td>NaN</td>\n",
              "      <td>NaN</td>\n",
              "      <td>NaN</td>\n",
              "      <td>0</td>\n",
              "      <td>12</td>\n",
              "      <td>2008</td>\n",
              "      <td>WD</td>\n",
              "      <td>Normal</td>\n",
              "      <td>250000</td>\n",
              "    </tr>\n",
              "  </tbody>\n",
              "</table>\n",
              "<p>5 rows × 81 columns</p>\n",
              "</div>"
            ],
            "text/plain": [
              "   Id  MSSubClass MSZoning  ...  SaleType  SaleCondition SalePrice\n",
              "0   1          60       RL  ...        WD         Normal    208500\n",
              "1   2          20       RL  ...        WD         Normal    181500\n",
              "2   3          60       RL  ...        WD         Normal    223500\n",
              "3   4          70       RL  ...        WD        Abnorml    140000\n",
              "4   5          60       RL  ...        WD         Normal    250000\n",
              "\n",
              "[5 rows x 81 columns]"
            ]
          },
          "metadata": {
            "tags": []
          },
          "execution_count": 2
        }
      ]
    },
    {
      "cell_type": "markdown",
      "metadata": {
        "id": "zOqgd1Ymx27N"
      },
      "source": [
        "# Data Inspecting"
      ]
    },
    {
      "cell_type": "code",
      "metadata": {
        "colab": {
          "base_uri": "https://localhost:8080/"
        },
        "id": "zOBlLgQ0yXdP",
        "outputId": "44d549fc-00f8-474e-9390-20124262b25a"
      },
      "source": [
        "df.shape"
      ],
      "execution_count": 3,
      "outputs": [
        {
          "output_type": "execute_result",
          "data": {
            "text/plain": [
              "(1460, 81)"
            ]
          },
          "metadata": {
            "tags": []
          },
          "execution_count": 3
        }
      ]
    },
    {
      "cell_type": "code",
      "metadata": {
        "colab": {
          "base_uri": "https://localhost:8080/"
        },
        "id": "SQK-a4euyH-3",
        "outputId": "5c193f07-f13c-454d-f7e8-135fa09e1f16"
      },
      "source": [
        "df.info()"
      ],
      "execution_count": 4,
      "outputs": [
        {
          "output_type": "stream",
          "text": [
            "<class 'pandas.core.frame.DataFrame'>\n",
            "RangeIndex: 1460 entries, 0 to 1459\n",
            "Data columns (total 81 columns):\n",
            " #   Column         Non-Null Count  Dtype  \n",
            "---  ------         --------------  -----  \n",
            " 0   Id             1460 non-null   int64  \n",
            " 1   MSSubClass     1460 non-null   int64  \n",
            " 2   MSZoning       1460 non-null   object \n",
            " 3   LotFrontage    1201 non-null   float64\n",
            " 4   LotArea        1460 non-null   int64  \n",
            " 5   Street         1460 non-null   object \n",
            " 6   Alley          91 non-null     object \n",
            " 7   LotShape       1460 non-null   object \n",
            " 8   LandContour    1460 non-null   object \n",
            " 9   Utilities      1460 non-null   object \n",
            " 10  LotConfig      1460 non-null   object \n",
            " 11  LandSlope      1460 non-null   object \n",
            " 12  Neighborhood   1460 non-null   object \n",
            " 13  Condition1     1460 non-null   object \n",
            " 14  Condition2     1460 non-null   object \n",
            " 15  BldgType       1460 non-null   object \n",
            " 16  HouseStyle     1460 non-null   object \n",
            " 17  OverallQual    1460 non-null   int64  \n",
            " 18  OverallCond    1460 non-null   int64  \n",
            " 19  YearBuilt      1460 non-null   int64  \n",
            " 20  YearRemodAdd   1460 non-null   int64  \n",
            " 21  RoofStyle      1460 non-null   object \n",
            " 22  RoofMatl       1460 non-null   object \n",
            " 23  Exterior1st    1460 non-null   object \n",
            " 24  Exterior2nd    1460 non-null   object \n",
            " 25  MasVnrType     1452 non-null   object \n",
            " 26  MasVnrArea     1452 non-null   float64\n",
            " 27  ExterQual      1460 non-null   object \n",
            " 28  ExterCond      1460 non-null   object \n",
            " 29  Foundation     1460 non-null   object \n",
            " 30  BsmtQual       1423 non-null   object \n",
            " 31  BsmtCond       1423 non-null   object \n",
            " 32  BsmtExposure   1422 non-null   object \n",
            " 33  BsmtFinType1   1423 non-null   object \n",
            " 34  BsmtFinSF1     1460 non-null   int64  \n",
            " 35  BsmtFinType2   1422 non-null   object \n",
            " 36  BsmtFinSF2     1460 non-null   int64  \n",
            " 37  BsmtUnfSF      1460 non-null   int64  \n",
            " 38  TotalBsmtSF    1460 non-null   int64  \n",
            " 39  Heating        1460 non-null   object \n",
            " 40  HeatingQC      1460 non-null   object \n",
            " 41  CentralAir     1460 non-null   object \n",
            " 42  Electrical     1459 non-null   object \n",
            " 43  1stFlrSF       1460 non-null   int64  \n",
            " 44  2ndFlrSF       1460 non-null   int64  \n",
            " 45  LowQualFinSF   1460 non-null   int64  \n",
            " 46  GrLivArea      1460 non-null   int64  \n",
            " 47  BsmtFullBath   1460 non-null   int64  \n",
            " 48  BsmtHalfBath   1460 non-null   int64  \n",
            " 49  FullBath       1460 non-null   int64  \n",
            " 50  HalfBath       1460 non-null   int64  \n",
            " 51  BedroomAbvGr   1460 non-null   int64  \n",
            " 52  KitchenAbvGr   1460 non-null   int64  \n",
            " 53  KitchenQual    1460 non-null   object \n",
            " 54  TotRmsAbvGrd   1460 non-null   int64  \n",
            " 55  Functional     1460 non-null   object \n",
            " 56  Fireplaces     1460 non-null   int64  \n",
            " 57  FireplaceQu    770 non-null    object \n",
            " 58  GarageType     1379 non-null   object \n",
            " 59  GarageYrBlt    1379 non-null   float64\n",
            " 60  GarageFinish   1379 non-null   object \n",
            " 61  GarageCars     1460 non-null   int64  \n",
            " 62  GarageArea     1460 non-null   int64  \n",
            " 63  GarageQual     1379 non-null   object \n",
            " 64  GarageCond     1379 non-null   object \n",
            " 65  PavedDrive     1460 non-null   object \n",
            " 66  WoodDeckSF     1460 non-null   int64  \n",
            " 67  OpenPorchSF    1460 non-null   int64  \n",
            " 68  EnclosedPorch  1460 non-null   int64  \n",
            " 69  3SsnPorch      1460 non-null   int64  \n",
            " 70  ScreenPorch    1460 non-null   int64  \n",
            " 71  PoolArea       1460 non-null   int64  \n",
            " 72  PoolQC         7 non-null      object \n",
            " 73  Fence          281 non-null    object \n",
            " 74  MiscFeature    54 non-null     object \n",
            " 75  MiscVal        1460 non-null   int64  \n",
            " 76  MoSold         1460 non-null   int64  \n",
            " 77  YrSold         1460 non-null   int64  \n",
            " 78  SaleType       1460 non-null   object \n",
            " 79  SaleCondition  1460 non-null   object \n",
            " 80  SalePrice      1460 non-null   int64  \n",
            "dtypes: float64(3), int64(35), object(43)\n",
            "memory usage: 924.0+ KB\n"
          ],
          "name": "stdout"
        }
      ]
    },
    {
      "cell_type": "code",
      "metadata": {
        "colab": {
          "base_uri": "https://localhost:8080/",
          "height": 317
        },
        "id": "iUpyf2hjyM7U",
        "outputId": "ecd556c5-4361-4347-c088-9c3088a28471"
      },
      "source": [
        "df.describe()"
      ],
      "execution_count": 5,
      "outputs": [
        {
          "output_type": "execute_result",
          "data": {
            "text/html": [
              "<div>\n",
              "<style scoped>\n",
              "    .dataframe tbody tr th:only-of-type {\n",
              "        vertical-align: middle;\n",
              "    }\n",
              "\n",
              "    .dataframe tbody tr th {\n",
              "        vertical-align: top;\n",
              "    }\n",
              "\n",
              "    .dataframe thead th {\n",
              "        text-align: right;\n",
              "    }\n",
              "</style>\n",
              "<table border=\"1\" class=\"dataframe\">\n",
              "  <thead>\n",
              "    <tr style=\"text-align: right;\">\n",
              "      <th></th>\n",
              "      <th>Id</th>\n",
              "      <th>MSSubClass</th>\n",
              "      <th>LotFrontage</th>\n",
              "      <th>LotArea</th>\n",
              "      <th>OverallQual</th>\n",
              "      <th>OverallCond</th>\n",
              "      <th>YearBuilt</th>\n",
              "      <th>YearRemodAdd</th>\n",
              "      <th>MasVnrArea</th>\n",
              "      <th>BsmtFinSF1</th>\n",
              "      <th>BsmtFinSF2</th>\n",
              "      <th>BsmtUnfSF</th>\n",
              "      <th>TotalBsmtSF</th>\n",
              "      <th>1stFlrSF</th>\n",
              "      <th>2ndFlrSF</th>\n",
              "      <th>LowQualFinSF</th>\n",
              "      <th>GrLivArea</th>\n",
              "      <th>BsmtFullBath</th>\n",
              "      <th>BsmtHalfBath</th>\n",
              "      <th>FullBath</th>\n",
              "      <th>HalfBath</th>\n",
              "      <th>BedroomAbvGr</th>\n",
              "      <th>KitchenAbvGr</th>\n",
              "      <th>TotRmsAbvGrd</th>\n",
              "      <th>Fireplaces</th>\n",
              "      <th>GarageYrBlt</th>\n",
              "      <th>GarageCars</th>\n",
              "      <th>GarageArea</th>\n",
              "      <th>WoodDeckSF</th>\n",
              "      <th>OpenPorchSF</th>\n",
              "      <th>EnclosedPorch</th>\n",
              "      <th>3SsnPorch</th>\n",
              "      <th>ScreenPorch</th>\n",
              "      <th>PoolArea</th>\n",
              "      <th>MiscVal</th>\n",
              "      <th>MoSold</th>\n",
              "      <th>YrSold</th>\n",
              "      <th>SalePrice</th>\n",
              "    </tr>\n",
              "  </thead>\n",
              "  <tbody>\n",
              "    <tr>\n",
              "      <th>count</th>\n",
              "      <td>1460.000000</td>\n",
              "      <td>1460.000000</td>\n",
              "      <td>1201.000000</td>\n",
              "      <td>1460.000000</td>\n",
              "      <td>1460.000000</td>\n",
              "      <td>1460.000000</td>\n",
              "      <td>1460.000000</td>\n",
              "      <td>1460.000000</td>\n",
              "      <td>1452.000000</td>\n",
              "      <td>1460.000000</td>\n",
              "      <td>1460.000000</td>\n",
              "      <td>1460.000000</td>\n",
              "      <td>1460.000000</td>\n",
              "      <td>1460.000000</td>\n",
              "      <td>1460.000000</td>\n",
              "      <td>1460.000000</td>\n",
              "      <td>1460.000000</td>\n",
              "      <td>1460.000000</td>\n",
              "      <td>1460.000000</td>\n",
              "      <td>1460.000000</td>\n",
              "      <td>1460.000000</td>\n",
              "      <td>1460.000000</td>\n",
              "      <td>1460.000000</td>\n",
              "      <td>1460.000000</td>\n",
              "      <td>1460.000000</td>\n",
              "      <td>1379.000000</td>\n",
              "      <td>1460.000000</td>\n",
              "      <td>1460.000000</td>\n",
              "      <td>1460.000000</td>\n",
              "      <td>1460.000000</td>\n",
              "      <td>1460.000000</td>\n",
              "      <td>1460.000000</td>\n",
              "      <td>1460.000000</td>\n",
              "      <td>1460.000000</td>\n",
              "      <td>1460.000000</td>\n",
              "      <td>1460.000000</td>\n",
              "      <td>1460.000000</td>\n",
              "      <td>1460.000000</td>\n",
              "    </tr>\n",
              "    <tr>\n",
              "      <th>mean</th>\n",
              "      <td>730.500000</td>\n",
              "      <td>56.897260</td>\n",
              "      <td>70.049958</td>\n",
              "      <td>10516.828082</td>\n",
              "      <td>6.099315</td>\n",
              "      <td>5.575342</td>\n",
              "      <td>1971.267808</td>\n",
              "      <td>1984.865753</td>\n",
              "      <td>103.685262</td>\n",
              "      <td>443.639726</td>\n",
              "      <td>46.549315</td>\n",
              "      <td>567.240411</td>\n",
              "      <td>1057.429452</td>\n",
              "      <td>1162.626712</td>\n",
              "      <td>346.992466</td>\n",
              "      <td>5.844521</td>\n",
              "      <td>1515.463699</td>\n",
              "      <td>0.425342</td>\n",
              "      <td>0.057534</td>\n",
              "      <td>1.565068</td>\n",
              "      <td>0.382877</td>\n",
              "      <td>2.866438</td>\n",
              "      <td>1.046575</td>\n",
              "      <td>6.517808</td>\n",
              "      <td>0.613014</td>\n",
              "      <td>1978.506164</td>\n",
              "      <td>1.767123</td>\n",
              "      <td>472.980137</td>\n",
              "      <td>94.244521</td>\n",
              "      <td>46.660274</td>\n",
              "      <td>21.954110</td>\n",
              "      <td>3.409589</td>\n",
              "      <td>15.060959</td>\n",
              "      <td>2.758904</td>\n",
              "      <td>43.489041</td>\n",
              "      <td>6.321918</td>\n",
              "      <td>2007.815753</td>\n",
              "      <td>180921.195890</td>\n",
              "    </tr>\n",
              "    <tr>\n",
              "      <th>std</th>\n",
              "      <td>421.610009</td>\n",
              "      <td>42.300571</td>\n",
              "      <td>24.284752</td>\n",
              "      <td>9981.264932</td>\n",
              "      <td>1.382997</td>\n",
              "      <td>1.112799</td>\n",
              "      <td>30.202904</td>\n",
              "      <td>20.645407</td>\n",
              "      <td>181.066207</td>\n",
              "      <td>456.098091</td>\n",
              "      <td>161.319273</td>\n",
              "      <td>441.866955</td>\n",
              "      <td>438.705324</td>\n",
              "      <td>386.587738</td>\n",
              "      <td>436.528436</td>\n",
              "      <td>48.623081</td>\n",
              "      <td>525.480383</td>\n",
              "      <td>0.518911</td>\n",
              "      <td>0.238753</td>\n",
              "      <td>0.550916</td>\n",
              "      <td>0.502885</td>\n",
              "      <td>0.815778</td>\n",
              "      <td>0.220338</td>\n",
              "      <td>1.625393</td>\n",
              "      <td>0.644666</td>\n",
              "      <td>24.689725</td>\n",
              "      <td>0.747315</td>\n",
              "      <td>213.804841</td>\n",
              "      <td>125.338794</td>\n",
              "      <td>66.256028</td>\n",
              "      <td>61.119149</td>\n",
              "      <td>29.317331</td>\n",
              "      <td>55.757415</td>\n",
              "      <td>40.177307</td>\n",
              "      <td>496.123024</td>\n",
              "      <td>2.703626</td>\n",
              "      <td>1.328095</td>\n",
              "      <td>79442.502883</td>\n",
              "    </tr>\n",
              "    <tr>\n",
              "      <th>min</th>\n",
              "      <td>1.000000</td>\n",
              "      <td>20.000000</td>\n",
              "      <td>21.000000</td>\n",
              "      <td>1300.000000</td>\n",
              "      <td>1.000000</td>\n",
              "      <td>1.000000</td>\n",
              "      <td>1872.000000</td>\n",
              "      <td>1950.000000</td>\n",
              "      <td>0.000000</td>\n",
              "      <td>0.000000</td>\n",
              "      <td>0.000000</td>\n",
              "      <td>0.000000</td>\n",
              "      <td>0.000000</td>\n",
              "      <td>334.000000</td>\n",
              "      <td>0.000000</td>\n",
              "      <td>0.000000</td>\n",
              "      <td>334.000000</td>\n",
              "      <td>0.000000</td>\n",
              "      <td>0.000000</td>\n",
              "      <td>0.000000</td>\n",
              "      <td>0.000000</td>\n",
              "      <td>0.000000</td>\n",
              "      <td>0.000000</td>\n",
              "      <td>2.000000</td>\n",
              "      <td>0.000000</td>\n",
              "      <td>1900.000000</td>\n",
              "      <td>0.000000</td>\n",
              "      <td>0.000000</td>\n",
              "      <td>0.000000</td>\n",
              "      <td>0.000000</td>\n",
              "      <td>0.000000</td>\n",
              "      <td>0.000000</td>\n",
              "      <td>0.000000</td>\n",
              "      <td>0.000000</td>\n",
              "      <td>0.000000</td>\n",
              "      <td>1.000000</td>\n",
              "      <td>2006.000000</td>\n",
              "      <td>34900.000000</td>\n",
              "    </tr>\n",
              "    <tr>\n",
              "      <th>25%</th>\n",
              "      <td>365.750000</td>\n",
              "      <td>20.000000</td>\n",
              "      <td>59.000000</td>\n",
              "      <td>7553.500000</td>\n",
              "      <td>5.000000</td>\n",
              "      <td>5.000000</td>\n",
              "      <td>1954.000000</td>\n",
              "      <td>1967.000000</td>\n",
              "      <td>0.000000</td>\n",
              "      <td>0.000000</td>\n",
              "      <td>0.000000</td>\n",
              "      <td>223.000000</td>\n",
              "      <td>795.750000</td>\n",
              "      <td>882.000000</td>\n",
              "      <td>0.000000</td>\n",
              "      <td>0.000000</td>\n",
              "      <td>1129.500000</td>\n",
              "      <td>0.000000</td>\n",
              "      <td>0.000000</td>\n",
              "      <td>1.000000</td>\n",
              "      <td>0.000000</td>\n",
              "      <td>2.000000</td>\n",
              "      <td>1.000000</td>\n",
              "      <td>5.000000</td>\n",
              "      <td>0.000000</td>\n",
              "      <td>1961.000000</td>\n",
              "      <td>1.000000</td>\n",
              "      <td>334.500000</td>\n",
              "      <td>0.000000</td>\n",
              "      <td>0.000000</td>\n",
              "      <td>0.000000</td>\n",
              "      <td>0.000000</td>\n",
              "      <td>0.000000</td>\n",
              "      <td>0.000000</td>\n",
              "      <td>0.000000</td>\n",
              "      <td>5.000000</td>\n",
              "      <td>2007.000000</td>\n",
              "      <td>129975.000000</td>\n",
              "    </tr>\n",
              "    <tr>\n",
              "      <th>50%</th>\n",
              "      <td>730.500000</td>\n",
              "      <td>50.000000</td>\n",
              "      <td>69.000000</td>\n",
              "      <td>9478.500000</td>\n",
              "      <td>6.000000</td>\n",
              "      <td>5.000000</td>\n",
              "      <td>1973.000000</td>\n",
              "      <td>1994.000000</td>\n",
              "      <td>0.000000</td>\n",
              "      <td>383.500000</td>\n",
              "      <td>0.000000</td>\n",
              "      <td>477.500000</td>\n",
              "      <td>991.500000</td>\n",
              "      <td>1087.000000</td>\n",
              "      <td>0.000000</td>\n",
              "      <td>0.000000</td>\n",
              "      <td>1464.000000</td>\n",
              "      <td>0.000000</td>\n",
              "      <td>0.000000</td>\n",
              "      <td>2.000000</td>\n",
              "      <td>0.000000</td>\n",
              "      <td>3.000000</td>\n",
              "      <td>1.000000</td>\n",
              "      <td>6.000000</td>\n",
              "      <td>1.000000</td>\n",
              "      <td>1980.000000</td>\n",
              "      <td>2.000000</td>\n",
              "      <td>480.000000</td>\n",
              "      <td>0.000000</td>\n",
              "      <td>25.000000</td>\n",
              "      <td>0.000000</td>\n",
              "      <td>0.000000</td>\n",
              "      <td>0.000000</td>\n",
              "      <td>0.000000</td>\n",
              "      <td>0.000000</td>\n",
              "      <td>6.000000</td>\n",
              "      <td>2008.000000</td>\n",
              "      <td>163000.000000</td>\n",
              "    </tr>\n",
              "    <tr>\n",
              "      <th>75%</th>\n",
              "      <td>1095.250000</td>\n",
              "      <td>70.000000</td>\n",
              "      <td>80.000000</td>\n",
              "      <td>11601.500000</td>\n",
              "      <td>7.000000</td>\n",
              "      <td>6.000000</td>\n",
              "      <td>2000.000000</td>\n",
              "      <td>2004.000000</td>\n",
              "      <td>166.000000</td>\n",
              "      <td>712.250000</td>\n",
              "      <td>0.000000</td>\n",
              "      <td>808.000000</td>\n",
              "      <td>1298.250000</td>\n",
              "      <td>1391.250000</td>\n",
              "      <td>728.000000</td>\n",
              "      <td>0.000000</td>\n",
              "      <td>1776.750000</td>\n",
              "      <td>1.000000</td>\n",
              "      <td>0.000000</td>\n",
              "      <td>2.000000</td>\n",
              "      <td>1.000000</td>\n",
              "      <td>3.000000</td>\n",
              "      <td>1.000000</td>\n",
              "      <td>7.000000</td>\n",
              "      <td>1.000000</td>\n",
              "      <td>2002.000000</td>\n",
              "      <td>2.000000</td>\n",
              "      <td>576.000000</td>\n",
              "      <td>168.000000</td>\n",
              "      <td>68.000000</td>\n",
              "      <td>0.000000</td>\n",
              "      <td>0.000000</td>\n",
              "      <td>0.000000</td>\n",
              "      <td>0.000000</td>\n",
              "      <td>0.000000</td>\n",
              "      <td>8.000000</td>\n",
              "      <td>2009.000000</td>\n",
              "      <td>214000.000000</td>\n",
              "    </tr>\n",
              "    <tr>\n",
              "      <th>max</th>\n",
              "      <td>1460.000000</td>\n",
              "      <td>190.000000</td>\n",
              "      <td>313.000000</td>\n",
              "      <td>215245.000000</td>\n",
              "      <td>10.000000</td>\n",
              "      <td>9.000000</td>\n",
              "      <td>2010.000000</td>\n",
              "      <td>2010.000000</td>\n",
              "      <td>1600.000000</td>\n",
              "      <td>5644.000000</td>\n",
              "      <td>1474.000000</td>\n",
              "      <td>2336.000000</td>\n",
              "      <td>6110.000000</td>\n",
              "      <td>4692.000000</td>\n",
              "      <td>2065.000000</td>\n",
              "      <td>572.000000</td>\n",
              "      <td>5642.000000</td>\n",
              "      <td>3.000000</td>\n",
              "      <td>2.000000</td>\n",
              "      <td>3.000000</td>\n",
              "      <td>2.000000</td>\n",
              "      <td>8.000000</td>\n",
              "      <td>3.000000</td>\n",
              "      <td>14.000000</td>\n",
              "      <td>3.000000</td>\n",
              "      <td>2010.000000</td>\n",
              "      <td>4.000000</td>\n",
              "      <td>1418.000000</td>\n",
              "      <td>857.000000</td>\n",
              "      <td>547.000000</td>\n",
              "      <td>552.000000</td>\n",
              "      <td>508.000000</td>\n",
              "      <td>480.000000</td>\n",
              "      <td>738.000000</td>\n",
              "      <td>15500.000000</td>\n",
              "      <td>12.000000</td>\n",
              "      <td>2010.000000</td>\n",
              "      <td>755000.000000</td>\n",
              "    </tr>\n",
              "  </tbody>\n",
              "</table>\n",
              "</div>"
            ],
            "text/plain": [
              "                Id   MSSubClass  ...       YrSold      SalePrice\n",
              "count  1460.000000  1460.000000  ...  1460.000000    1460.000000\n",
              "mean    730.500000    56.897260  ...  2007.815753  180921.195890\n",
              "std     421.610009    42.300571  ...     1.328095   79442.502883\n",
              "min       1.000000    20.000000  ...  2006.000000   34900.000000\n",
              "25%     365.750000    20.000000  ...  2007.000000  129975.000000\n",
              "50%     730.500000    50.000000  ...  2008.000000  163000.000000\n",
              "75%    1095.250000    70.000000  ...  2009.000000  214000.000000\n",
              "max    1460.000000   190.000000  ...  2010.000000  755000.000000\n",
              "\n",
              "[8 rows x 38 columns]"
            ]
          },
          "metadata": {
            "tags": []
          },
          "execution_count": 5
        }
      ]
    },
    {
      "cell_type": "code",
      "metadata": {
        "colab": {
          "base_uri": "https://localhost:8080/"
        },
        "id": "1XtEryMCyP2u",
        "outputId": "3e880fd1-2fee-4713-cdda-4f9dcd1c4459"
      },
      "source": [
        "df.columns"
      ],
      "execution_count": 6,
      "outputs": [
        {
          "output_type": "execute_result",
          "data": {
            "text/plain": [
              "Index(['Id', 'MSSubClass', 'MSZoning', 'LotFrontage', 'LotArea', 'Street',\n",
              "       'Alley', 'LotShape', 'LandContour', 'Utilities', 'LotConfig',\n",
              "       'LandSlope', 'Neighborhood', 'Condition1', 'Condition2', 'BldgType',\n",
              "       'HouseStyle', 'OverallQual', 'OverallCond', 'YearBuilt', 'YearRemodAdd',\n",
              "       'RoofStyle', 'RoofMatl', 'Exterior1st', 'Exterior2nd', 'MasVnrType',\n",
              "       'MasVnrArea', 'ExterQual', 'ExterCond', 'Foundation', 'BsmtQual',\n",
              "       'BsmtCond', 'BsmtExposure', 'BsmtFinType1', 'BsmtFinSF1',\n",
              "       'BsmtFinType2', 'BsmtFinSF2', 'BsmtUnfSF', 'TotalBsmtSF', 'Heating',\n",
              "       'HeatingQC', 'CentralAir', 'Electrical', '1stFlrSF', '2ndFlrSF',\n",
              "       'LowQualFinSF', 'GrLivArea', 'BsmtFullBath', 'BsmtHalfBath', 'FullBath',\n",
              "       'HalfBath', 'BedroomAbvGr', 'KitchenAbvGr', 'KitchenQual',\n",
              "       'TotRmsAbvGrd', 'Functional', 'Fireplaces', 'FireplaceQu', 'GarageType',\n",
              "       'GarageYrBlt', 'GarageFinish', 'GarageCars', 'GarageArea', 'GarageQual',\n",
              "       'GarageCond', 'PavedDrive', 'WoodDeckSF', 'OpenPorchSF',\n",
              "       'EnclosedPorch', '3SsnPorch', 'ScreenPorch', 'PoolArea', 'PoolQC',\n",
              "       'Fence', 'MiscFeature', 'MiscVal', 'MoSold', 'YrSold', 'SaleType',\n",
              "       'SaleCondition', 'SalePrice'],\n",
              "      dtype='object')"
            ]
          },
          "metadata": {
            "tags": []
          },
          "execution_count": 6
        }
      ]
    },
    {
      "cell_type": "code",
      "metadata": {
        "colab": {
          "base_uri": "https://localhost:8080/"
        },
        "id": "Jz-Uc5dfybTI",
        "outputId": "026fabb7-cd83-4a80-b75f-0f089c1d5cec"
      },
      "source": [
        "len(df.columns)"
      ],
      "execution_count": 7,
      "outputs": [
        {
          "output_type": "execute_result",
          "data": {
            "text/plain": [
              "81"
            ]
          },
          "metadata": {
            "tags": []
          },
          "execution_count": 7
        }
      ]
    },
    {
      "cell_type": "markdown",
      "metadata": {
        "id": "XXIRRk7IynlM"
      },
      "source": [
        "# EDA"
      ]
    },
    {
      "cell_type": "markdown",
      "metadata": {
        "id": "d9sIOTZljwmq"
      },
      "source": [
        "We can see a lot of columns that have very low corelation with sales price hence we can drop them."
      ]
    },
    {
      "cell_type": "markdown",
      "metadata": {
        "id": "yneh_Sg0BmX3"
      },
      "source": [
        "## Mean SalePrice in each Neighborhood"
      ]
    },
    {
      "cell_type": "code",
      "metadata": {
        "colab": {
          "base_uri": "https://localhost:8080/",
          "height": 445
        },
        "id": "_kFLfn6syp4h",
        "outputId": "b384c8c1-f0b6-4e5e-ed8f-e96722038358"
      },
      "source": [
        "fig, ax = plt.subplots(figsize=(15,6))\n",
        "df.groupby('Neighborhood')['SalePrice'].mean().plot(kind='bar')"
      ],
      "execution_count": 8,
      "outputs": [
        {
          "output_type": "execute_result",
          "data": {
            "text/plain": [
              "<matplotlib.axes._subplots.AxesSubplot at 0x7fadc2015810>"
            ]
          },
          "metadata": {
            "tags": []
          },
          "execution_count": 8
        },
        {
          "output_type": "display_data",
          "data": {
            "image/png": "[encoded data removed]",
            "text/plain": [
              "<Figure size 1080x432 with 1 Axes>"
            ]
          },
          "metadata": {
            "tags": [],
            "needs_background": "light"
          }
        }
      ]
    },
    {
      "cell_type": "markdown",
      "metadata": {
        "id": "-vQCx7gA5ucp"
      },
      "source": [
        "### We see that house prices are higher in NoRidge, Nridght, StoneBr than other places."
      ]
    },
    {
      "cell_type": "markdown",
      "metadata": {
        "id": "VQNo-avmBr8D"
      },
      "source": [
        "## Frequency of House in Neighborhoods"
      ]
    },
    {
      "cell_type": "code",
      "metadata": {
        "colab": {
          "base_uri": "https://localhost:8080/",
          "height": 429
        },
        "id": "aYDnJZwYywci",
        "outputId": "8012734b-d28d-4fcd-cf19-2074c5d35a6b"
      },
      "source": [
        "fig, ax = plt.subplots(figsize=(15,6))\n",
        "df['Neighborhood'].value_counts().plot(kind = 'bar')"
      ],
      "execution_count": 9,
      "outputs": [
        {
          "output_type": "execute_result",
          "data": {
            "text/plain": [
              "<matplotlib.axes._subplots.AxesSubplot at 0x7fadc1e8bb10>"
            ]
          },
          "metadata": {
            "tags": []
          },
          "execution_count": 9
        },
        {
          "output_type": "display_data",
          "data": {
            "image/png": "[encoded data removed]",
            "text/plain": [
              "<Figure size 1080x432 with 1 Axes>"
            ]
          },
          "metadata": {
            "tags": [],
            "needs_background": "light"
          }
        }
      ]
    },
    {
      "cell_type": "markdown",
      "metadata": {
        "id": "TezofJ1h855_"
      },
      "source": [
        "### Names has more houses for Sale than most other neighborhoods\n"
      ]
    },
    {
      "cell_type": "markdown",
      "metadata": {
        "id": "Gg9WcvzdBzwn"
      },
      "source": [
        "## Mean Sale Price by HouseStyle"
      ]
    },
    {
      "cell_type": "code",
      "metadata": {
        "colab": {
          "base_uri": "https://localhost:8080/",
          "height": 429
        },
        "id": "L6fnZHikzjd5",
        "outputId": "5bad5f32-705f-40e6-c706-83587dcb0517"
      },
      "source": [
        "fig, ax = plt.subplots(figsize=(15,6))\n",
        "df.groupby('HouseStyle')['SalePrice'].mean().plot(kind='bar')"
      ],
      "execution_count": 10,
      "outputs": [
        {
          "output_type": "execute_result",
          "data": {
            "text/plain": [
              "<matplotlib.axes._subplots.AxesSubplot at 0x7fadc1ff5c10>"
            ]
          },
          "metadata": {
            "tags": []
          },
          "execution_count": 10
        },
        {
          "output_type": "display_data",
          "data": {
            "image/png": "[encoded data removed]",
            "text/plain": [
              "<Figure size 1080x432 with 1 Axes>"
            ]
          },
          "metadata": {
            "tags": [],
            "needs_background": "light"
          }
        }
      ]
    },
    {
      "cell_type": "markdown",
      "metadata": {
        "id": "bruheVzY9Du9"
      },
      "source": [
        "### Prices of 2.5Fin and 2Story are higher."
      ]
    },
    {
      "cell_type": "markdown",
      "metadata": {
        "id": "oAbOUNNuB6bE"
      },
      "source": [
        "## Frequency of HouseStyle "
      ]
    },
    {
      "cell_type": "code",
      "metadata": {
        "colab": {
          "base_uri": "https://localhost:8080/",
          "height": 415
        },
        "id": "tuqILuOUzqLE",
        "outputId": "dfc02393-64f7-494b-bef7-97d874f907ed"
      },
      "source": [
        "fig, ax = plt.subplots(figsize=(15,6))\n",
        "df['HouseStyle'].value_counts().plot(kind = 'bar')"
      ],
      "execution_count": 11,
      "outputs": [
        {
          "output_type": "execute_result",
          "data": {
            "text/plain": [
              "<matplotlib.axes._subplots.AxesSubplot at 0x7fadc185e510>"
            ]
          },
          "metadata": {
            "tags": []
          },
          "execution_count": 11
        },
        {
          "output_type": "display_data",
          "data": {
            "image/png": "[encoded data removed]",
            "text/plain": [
              "<Figure size 1080x432 with 1 Axes>"
            ]
          },
          "metadata": {
            "tags": [],
            "needs_background": "light"
          }
        }
      ]
    },
    {
      "cell_type": "markdown",
      "metadata": {
        "id": "0mLDyu1m9PBa"
      },
      "source": [
        "### Most houses for sale are 1 story"
      ]
    },
    {
      "cell_type": "markdown",
      "metadata": {
        "id": "tx_kBL1oCGJU"
      },
      "source": [
        "## No of Houses based on YearBuilt"
      ]
    },
    {
      "cell_type": "code",
      "metadata": {
        "colab": {
          "base_uri": "https://localhost:8080/",
          "height": 409
        },
        "id": "6rDZo6-7z3BX",
        "outputId": "ece685d6-4b04-4117-9b4e-56ffc4172749"
      },
      "source": [
        "fig, ax = plt.subplots(figsize=(20,6))\n",
        "df['YearBuilt'].value_counts().plot(kind = 'bar')"
      ],
      "execution_count": 12,
      "outputs": [
        {
          "output_type": "execute_result",
          "data": {
            "text/plain": [
              "<matplotlib.axes._subplots.AxesSubplot at 0x7fadc17d4850>"
            ]
          },
          "metadata": {
            "tags": []
          },
          "execution_count": 12
        },
        {
          "output_type": "display_data",
          "data": {
            "image/png": "[encoded data removed]",
            "text/plain": [
              "<Figure size 1440x432 with 1 Axes>"
            ]
          },
          "metadata": {
            "tags": [],
            "needs_background": "light"
          }
        }
      ]
    },
    {
      "cell_type": "markdown",
      "metadata": {
        "id": "MUeiCo6XCMYd"
      },
      "source": [
        "## Yearbuilt and SalePrice Plot "
      ]
    },
    {
      "cell_type": "code",
      "metadata": {
        "colab": {
          "base_uri": "https://localhost:8080/",
          "height": 656
        },
        "id": "Z-dvB9hc5SmP",
        "outputId": "fabc3e64-cb19-4b8e-82b1-2f0cb50347bf"
      },
      "source": [
        "sns.jointplot(data=df, x=\"YearBuilt\", y=\"SalePrice\", kind=\"kde\", height=8.27, aspect=11.7/8.27)"
      ],
      "execution_count": 13,
      "outputs": [
        {
          "output_type": "stream",
          "text": [
            "/usr/local/lib/python3.7/dist-packages/seaborn/distributions.py:1185: UserWarning: The following kwargs were not used by contour: 'aspect'\n",
            "  **contour_kws,\n"
          ],
          "name": "stderr"
        },
        {
          "output_type": "execute_result",
          "data": {
            "text/plain": [
              "<seaborn.axisgrid.JointGrid at 0x7fadc182cad0>"
            ]
          },
          "metadata": {
            "tags": []
          },
          "execution_count": 13
        },
        {
          "output_type": "display_data",
          "data": {
            "image/png": "[encoded data removed]",
            "text/plain": [
              "<Figure size 595.44x595.44 with 3 Axes>"
            ]
          },
          "metadata": {
            "tags": [],
            "needs_background": "light"
          }
        }
      ]
    },
    {
      "cell_type": "markdown",
      "metadata": {
        "id": "NU3wj1GH-awt"
      },
      "source": [
        "### Houses Built in between 1990 & 2005 are higher priced."
      ]
    },
    {
      "cell_type": "markdown",
      "metadata": {
        "id": "49bPf9ifCcJD"
      },
      "source": [
        "## HouseStyle and SalePrice Plot"
      ]
    },
    {
      "cell_type": "code",
      "metadata": {
        "colab": {
          "base_uri": "https://localhost:8080/",
          "height": 458
        },
        "id": "QCDRSr8F-u7G",
        "outputId": "00cff68c-1642-419a-a930-ecb7ae2a6e63"
      },
      "source": [
        "sns.jointplot(data=df, x=\"YearBuilt\", y=\"SalePrice\",hue=\"HouseStyle\", kind=\"scatter\")"
      ],
      "execution_count": 14,
      "outputs": [
        {
          "output_type": "execute_result",
          "data": {
            "text/plain": [
              "<seaborn.axisgrid.JointGrid at 0x7fadb5eeaf90>"
            ]
          },
          "metadata": {
            "tags": []
          },
          "execution_count": 14
        },
        {
          "output_type": "display_data",
          "data": {
            "image/png": "[encoded data removed]",
            "text/plain": [
              "<Figure size 432x432 with 3 Axes>"
            ]
          },
          "metadata": {
            "tags": [],
            "needs_background": "light"
          }
        }
      ]
    },
    {
      "cell_type": "markdown",
      "metadata": {
        "id": "Zd23DLwCxVY-"
      },
      "source": [
        "# Data Preprocessing"
      ]
    },
    {
      "cell_type": "code",
      "metadata": {
        "colab": {
          "base_uri": "https://localhost:8080/",
          "height": 638
        },
        "id": "8hesPoSVSn9N",
        "outputId": "5d91c6e9-37b4-4731-e895-3fc292d95ae2"
      },
      "source": [
        "null_df = pd.DataFrame(df.isna().sum())\n",
        "null_df[null_df[0] != 0]"
      ],
      "execution_count": 15,
      "outputs": [
        {
          "output_type": "execute_result",
          "data": {
            "text/html": [
              "<div>\n",
              "<style scoped>\n",
              "    .dataframe tbody tr th:only-of-type {\n",
              "        vertical-align: middle;\n",
              "    }\n",
              "\n",
              "    .dataframe tbody tr th {\n",
              "        vertical-align: top;\n",
              "    }\n",
              "\n",
              "    .dataframe thead th {\n",
              "        text-align: right;\n",
              "    }\n",
              "</style>\n",
              "<table border=\"1\" class=\"dataframe\">\n",
              "  <thead>\n",
              "    <tr style=\"text-align: right;\">\n",
              "      <th></th>\n",
              "      <th>0</th>\n",
              "    </tr>\n",
              "  </thead>\n",
              "  <tbody>\n",
              "    <tr>\n",
              "      <th>LotFrontage</th>\n",
              "      <td>259</td>\n",
              "    </tr>\n",
              "    <tr>\n",
              "      <th>Alley</th>\n",
              "      <td>1369</td>\n",
              "    </tr>\n",
              "    <tr>\n",
              "      <th>MasVnrType</th>\n",
              "      <td>8</td>\n",
              "    </tr>\n",
              "    <tr>\n",
              "      <th>MasVnrArea</th>\n",
              "      <td>8</td>\n",
              "    </tr>\n",
              "    <tr>\n",
              "      <th>BsmtQual</th>\n",
              "      <td>37</td>\n",
              "    </tr>\n",
              "    <tr>\n",
              "      <th>BsmtCond</th>\n",
              "      <td>37</td>\n",
              "    </tr>\n",
              "    <tr>\n",
              "      <th>BsmtExposure</th>\n",
              "      <td>38</td>\n",
              "    </tr>\n",
              "    <tr>\n",
              "      <th>BsmtFinType1</th>\n",
              "      <td>37</td>\n",
              "    </tr>\n",
              "    <tr>\n",
              "      <th>BsmtFinType2</th>\n",
              "      <td>38</td>\n",
              "    </tr>\n",
              "    <tr>\n",
              "      <th>Electrical</th>\n",
              "      <td>1</td>\n",
              "    </tr>\n",
              "    <tr>\n",
              "      <th>FireplaceQu</th>\n",
              "      <td>690</td>\n",
              "    </tr>\n",
              "    <tr>\n",
              "      <th>GarageType</th>\n",
              "      <td>81</td>\n",
              "    </tr>\n",
              "    <tr>\n",
              "      <th>GarageYrBlt</th>\n",
              "      <td>81</td>\n",
              "    </tr>\n",
              "    <tr>\n",
              "      <th>GarageFinish</th>\n",
              "      <td>81</td>\n",
              "    </tr>\n",
              "    <tr>\n",
              "      <th>GarageQual</th>\n",
              "      <td>81</td>\n",
              "    </tr>\n",
              "    <tr>\n",
              "      <th>GarageCond</th>\n",
              "      <td>81</td>\n",
              "    </tr>\n",
              "    <tr>\n",
              "      <th>PoolQC</th>\n",
              "      <td>1453</td>\n",
              "    </tr>\n",
              "    <tr>\n",
              "      <th>Fence</th>\n",
              "      <td>1179</td>\n",
              "    </tr>\n",
              "    <tr>\n",
              "      <th>MiscFeature</th>\n",
              "      <td>1406</td>\n",
              "    </tr>\n",
              "  </tbody>\n",
              "</table>\n",
              "</div>"
            ],
            "text/plain": [
              "                 0\n",
              "LotFrontage    259\n",
              "Alley         1369\n",
              "MasVnrType       8\n",
              "MasVnrArea       8\n",
              "BsmtQual        37\n",
              "BsmtCond        37\n",
              "BsmtExposure    38\n",
              "BsmtFinType1    37\n",
              "BsmtFinType2    38\n",
              "Electrical       1\n",
              "FireplaceQu    690\n",
              "GarageType      81\n",
              "GarageYrBlt     81\n",
              "GarageFinish    81\n",
              "GarageQual      81\n",
              "GarageCond      81\n",
              "PoolQC        1453\n",
              "Fence         1179\n",
              "MiscFeature   1406"
            ]
          },
          "metadata": {
            "tags": []
          },
          "execution_count": 15
        }
      ]
    },
    {
      "cell_type": "markdown",
      "metadata": {
        "id": "5P28ubeyRjzr"
      },
      "source": [
        "We see a lot of null values in some columns that can be droped"
      ]
    },
    {
      "cell_type": "code",
      "metadata": {
        "id": "y1tyWFDFV6vp"
      },
      "source": [
        "df = df.drop('PoolQC',axis=1)\n",
        "df = df.drop('Fence',axis=1)\n",
        "df = df.drop('MiscFeature',axis=1)\n",
        "df = df.drop('Alley',axis=1)\n",
        "df = df.drop('FireplaceQu',axis=1)\n",
        "df = df.drop('LotFrontage',axis=1)"
      ],
      "execution_count": 16,
      "outputs": []
    },
    {
      "cell_type": "code",
      "metadata": {
        "colab": {
          "base_uri": "https://localhost:8080/",
          "height": 452
        },
        "id": "4C91zpbiZg8F",
        "outputId": "87b2816d-ce5f-4b13-ab67-fe3fd7a42c34"
      },
      "source": [
        "null_df = pd.DataFrame(df.isna().sum())\n",
        "null_df[null_df[0] != 0]"
      ],
      "execution_count": 17,
      "outputs": [
        {
          "output_type": "execute_result",
          "data": {
            "text/html": [
              "<div>\n",
              "<style scoped>\n",
              "    .dataframe tbody tr th:only-of-type {\n",
              "        vertical-align: middle;\n",
              "    }\n",
              "\n",
              "    .dataframe tbody tr th {\n",
              "        vertical-align: top;\n",
              "    }\n",
              "\n",
              "    .dataframe thead th {\n",
              "        text-align: right;\n",
              "    }\n",
              "</style>\n",
              "<table border=\"1\" class=\"dataframe\">\n",
              "  <thead>\n",
              "    <tr style=\"text-align: right;\">\n",
              "      <th></th>\n",
              "      <th>0</th>\n",
              "    </tr>\n",
              "  </thead>\n",
              "  <tbody>\n",
              "    <tr>\n",
              "      <th>MasVnrType</th>\n",
              "      <td>8</td>\n",
              "    </tr>\n",
              "    <tr>\n",
              "      <th>MasVnrArea</th>\n",
              "      <td>8</td>\n",
              "    </tr>\n",
              "    <tr>\n",
              "      <th>BsmtQual</th>\n",
              "      <td>37</td>\n",
              "    </tr>\n",
              "    <tr>\n",
              "      <th>BsmtCond</th>\n",
              "      <td>37</td>\n",
              "    </tr>\n",
              "    <tr>\n",
              "      <th>BsmtExposure</th>\n",
              "      <td>38</td>\n",
              "    </tr>\n",
              "    <tr>\n",
              "      <th>BsmtFinType1</th>\n",
              "      <td>37</td>\n",
              "    </tr>\n",
              "    <tr>\n",
              "      <th>BsmtFinType2</th>\n",
              "      <td>38</td>\n",
              "    </tr>\n",
              "    <tr>\n",
              "      <th>Electrical</th>\n",
              "      <td>1</td>\n",
              "    </tr>\n",
              "    <tr>\n",
              "      <th>GarageType</th>\n",
              "      <td>81</td>\n",
              "    </tr>\n",
              "    <tr>\n",
              "      <th>GarageYrBlt</th>\n",
              "      <td>81</td>\n",
              "    </tr>\n",
              "    <tr>\n",
              "      <th>GarageFinish</th>\n",
              "      <td>81</td>\n",
              "    </tr>\n",
              "    <tr>\n",
              "      <th>GarageQual</th>\n",
              "      <td>81</td>\n",
              "    </tr>\n",
              "    <tr>\n",
              "      <th>GarageCond</th>\n",
              "      <td>81</td>\n",
              "    </tr>\n",
              "  </tbody>\n",
              "</table>\n",
              "</div>"
            ],
            "text/plain": [
              "               0\n",
              "MasVnrType     8\n",
              "MasVnrArea     8\n",
              "BsmtQual      37\n",
              "BsmtCond      37\n",
              "BsmtExposure  38\n",
              "BsmtFinType1  37\n",
              "BsmtFinType2  38\n",
              "Electrical     1\n",
              "GarageType    81\n",
              "GarageYrBlt   81\n",
              "GarageFinish  81\n",
              "GarageQual    81\n",
              "GarageCond    81"
            ]
          },
          "metadata": {
            "tags": []
          },
          "execution_count": 17
        }
      ]
    },
    {
      "cell_type": "markdown",
      "metadata": {
        "id": "C1KvzO3RmDNx"
      },
      "source": [
        "Lets Drop the rest of the Null Values"
      ]
    },
    {
      "cell_type": "code",
      "metadata": {
        "id": "b4MGpTM_l_GR"
      },
      "source": [
        "df = df.dropna()"
      ],
      "execution_count": 18,
      "outputs": []
    },
    {
      "cell_type": "code",
      "metadata": {
        "colab": {
          "base_uri": "https://localhost:8080/"
        },
        "id": "spujOdk9X80_",
        "outputId": "f8983e41-0b5b-4dda-d6d1-c3996b86092f"
      },
      "source": [
        "df.info()"
      ],
      "execution_count": 19,
      "outputs": [
        {
          "output_type": "stream",
          "text": [
            "<class 'pandas.core.frame.DataFrame'>\n",
            "Int64Index: 1338 entries, 0 to 1459\n",
            "Data columns (total 75 columns):\n",
            " #   Column         Non-Null Count  Dtype  \n",
            "---  ------         --------------  -----  \n",
            " 0   Id             1338 non-null   int64  \n",
            " 1   MSSubClass     1338 non-null   int64  \n",
            " 2   MSZoning       1338 non-null   object \n",
            " 3   LotArea        1338 non-null   int64  \n",
            " 4   Street         1338 non-null   object \n",
            " 5   LotShape       1338 non-null   object \n",
            " 6   LandContour    1338 non-null   object \n",
            " 7   Utilities      1338 non-null   object \n",
            " 8   LotConfig      1338 non-null   object \n",
            " 9   LandSlope      1338 non-null   object \n",
            " 10  Neighborhood   1338 non-null   object \n",
            " 11  Condition1     1338 non-null   object \n",
            " 12  Condition2     1338 non-null   object \n",
            " 13  BldgType       1338 non-null   object \n",
            " 14  HouseStyle     1338 non-null   object \n",
            " 15  OverallQual    1338 non-null   int64  \n",
            " 16  OverallCond    1338 non-null   int64  \n",
            " 17  YearBuilt      1338 non-null   int64  \n",
            " 18  YearRemodAdd   1338 non-null   int64  \n",
            " 19  RoofStyle      1338 non-null   object \n",
            " 20  RoofMatl       1338 non-null   object \n",
            " 21  Exterior1st    1338 non-null   object \n",
            " 22  Exterior2nd    1338 non-null   object \n",
            " 23  MasVnrType     1338 non-null   object \n",
            " 24  MasVnrArea     1338 non-null   float64\n",
            " 25  ExterQual      1338 non-null   object \n",
            " 26  ExterCond      1338 non-null   object \n",
            " 27  Foundation     1338 non-null   object \n",
            " 28  BsmtQual       1338 non-null   object \n",
            " 29  BsmtCond       1338 non-null   object \n",
            " 30  BsmtExposure   1338 non-null   object \n",
            " 31  BsmtFinType1   1338 non-null   object \n",
            " 32  BsmtFinSF1     1338 non-null   int64  \n",
            " 33  BsmtFinType2   1338 non-null   object \n",
            " 34  BsmtFinSF2     1338 non-null   int64  \n",
            " 35  BsmtUnfSF      1338 non-null   int64  \n",
            " 36  TotalBsmtSF    1338 non-null   int64  \n",
            " 37  Heating        1338 non-null   object \n",
            " 38  HeatingQC      1338 non-null   object \n",
            " 39  CentralAir     1338 non-null   object \n",
            " 40  Electrical     1338 non-null   object \n",
            " 41  1stFlrSF       1338 non-null   int64  \n",
            " 42  2ndFlrSF       1338 non-null   int64  \n",
            " 43  LowQualFinSF   1338 non-null   int64  \n",
            " 44  GrLivArea      1338 non-null   int64  \n",
            " 45  BsmtFullBath   1338 non-null   int64  \n",
            " 46  BsmtHalfBath   1338 non-null   int64  \n",
            " 47  FullBath       1338 non-null   int64  \n",
            " 48  HalfBath       1338 non-null   int64  \n",
            " 49  BedroomAbvGr   1338 non-null   int64  \n",
            " 50  KitchenAbvGr   1338 non-null   int64  \n",
            " 51  KitchenQual    1338 non-null   object \n",
            " 52  TotRmsAbvGrd   1338 non-null   int64  \n",
            " 53  Functional     1338 non-null   object \n",
            " 54  Fireplaces     1338 non-null   int64  \n",
            " 55  GarageType     1338 non-null   object \n",
            " 56  GarageYrBlt    1338 non-null   float64\n",
            " 57  GarageFinish   1338 non-null   object \n",
            " 58  GarageCars     1338 non-null   int64  \n",
            " 59  GarageArea     1338 non-null   int64  \n",
            " 60  GarageQual     1338 non-null   object \n",
            " 61  GarageCond     1338 non-null   object \n",
            " 62  PavedDrive     1338 non-null   object \n",
            " 63  WoodDeckSF     1338 non-null   int64  \n",
            " 64  OpenPorchSF    1338 non-null   int64  \n",
            " 65  EnclosedPorch  1338 non-null   int64  \n",
            " 66  3SsnPorch      1338 non-null   int64  \n",
            " 67  ScreenPorch    1338 non-null   int64  \n",
            " 68  PoolArea       1338 non-null   int64  \n",
            " 69  MiscVal        1338 non-null   int64  \n",
            " 70  MoSold         1338 non-null   int64  \n",
            " 71  YrSold         1338 non-null   int64  \n",
            " 72  SaleType       1338 non-null   object \n",
            " 73  SaleCondition  1338 non-null   object \n",
            " 74  SalePrice      1338 non-null   int64  \n",
            "dtypes: float64(2), int64(35), object(38)\n",
            "memory usage: 794.4+ KB\n"
          ],
          "name": "stdout"
        }
      ]
    },
    {
      "cell_type": "markdown",
      "metadata": {
        "id": "X70L4KCYSEUw"
      },
      "source": [
        "We also saw a lot of object type Features that needs to be Encoded."
      ]
    },
    {
      "cell_type": "code",
      "metadata": {
        "id": "5pkZBNyGifMb"
      },
      "source": [
        "le = LabelEncoder()\n",
        "for col, value in df.items():\n",
        "  if(df[col].dtype==np.dtype('O')):\n",
        "    column = col\n",
        "    df[col] = le.fit_transform(df[col].astype(str))"
      ],
      "execution_count": 20,
      "outputs": []
    },
    {
      "cell_type": "code",
      "metadata": {
        "id": "kaDP_cvykKTA",
        "colab": {
          "base_uri": "https://localhost:8080/",
          "height": 439
        },
        "outputId": "3c2e2303-756a-40d6-ab92-e501ea112128"
      },
      "source": [
        "df.corr().abs()"
      ],
      "execution_count": 21,
      "outputs": [
        {
          "output_type": "execute_result",
          "data": {
            "text/html": [
              "<div>\n",
              "<style scoped>\n",
              "    .dataframe tbody tr th:only-of-type {\n",
              "        vertical-align: middle;\n",
              "    }\n",
              "\n",
              "    .dataframe tbody tr th {\n",
              "        vertical-align: top;\n",
              "    }\n",
              "\n",
              "    .dataframe thead th {\n",
              "        text-align: right;\n",
              "    }\n",
              "</style>\n",
              "<table border=\"1\" class=\"dataframe\">\n",
              "  <thead>\n",
              "    <tr style=\"text-align: right;\">\n",
              "      <th></th>\n",
              "      <th>Id</th>\n",
              "      <th>MSSubClass</th>\n",
              "      <th>MSZoning</th>\n",
              "      <th>LotArea</th>\n",
              "      <th>Street</th>\n",
              "      <th>LotShape</th>\n",
              "      <th>LandContour</th>\n",
              "      <th>Utilities</th>\n",
              "      <th>LotConfig</th>\n",
              "      <th>LandSlope</th>\n",
              "      <th>Neighborhood</th>\n",
              "      <th>Condition1</th>\n",
              "      <th>Condition2</th>\n",
              "      <th>BldgType</th>\n",
              "      <th>HouseStyle</th>\n",
              "      <th>OverallQual</th>\n",
              "      <th>OverallCond</th>\n",
              "      <th>YearBuilt</th>\n",
              "      <th>YearRemodAdd</th>\n",
              "      <th>RoofStyle</th>\n",
              "      <th>RoofMatl</th>\n",
              "      <th>Exterior1st</th>\n",
              "      <th>Exterior2nd</th>\n",
              "      <th>MasVnrType</th>\n",
              "      <th>MasVnrArea</th>\n",
              "      <th>ExterQual</th>\n",
              "      <th>ExterCond</th>\n",
              "      <th>Foundation</th>\n",
              "      <th>BsmtQual</th>\n",
              "      <th>BsmtCond</th>\n",
              "      <th>BsmtExposure</th>\n",
              "      <th>BsmtFinType1</th>\n",
              "      <th>BsmtFinSF1</th>\n",
              "      <th>BsmtFinType2</th>\n",
              "      <th>BsmtFinSF2</th>\n",
              "      <th>BsmtUnfSF</th>\n",
              "      <th>TotalBsmtSF</th>\n",
              "      <th>Heating</th>\n",
              "      <th>HeatingQC</th>\n",
              "      <th>CentralAir</th>\n",
              "      <th>Electrical</th>\n",
              "      <th>1stFlrSF</th>\n",
              "      <th>2ndFlrSF</th>\n",
              "      <th>LowQualFinSF</th>\n",
              "      <th>GrLivArea</th>\n",
              "      <th>BsmtFullBath</th>\n",
              "      <th>BsmtHalfBath</th>\n",
              "      <th>FullBath</th>\n",
              "      <th>HalfBath</th>\n",
              "      <th>BedroomAbvGr</th>\n",
              "      <th>KitchenAbvGr</th>\n",
              "      <th>KitchenQual</th>\n",
              "      <th>TotRmsAbvGrd</th>\n",
              "      <th>Functional</th>\n",
              "      <th>Fireplaces</th>\n",
              "      <th>GarageType</th>\n",
              "      <th>GarageYrBlt</th>\n",
              "      <th>GarageFinish</th>\n",
              "      <th>GarageCars</th>\n",
              "      <th>GarageArea</th>\n",
              "      <th>GarageQual</th>\n",
              "      <th>GarageCond</th>\n",
              "      <th>PavedDrive</th>\n",
              "      <th>WoodDeckSF</th>\n",
              "      <th>OpenPorchSF</th>\n",
              "      <th>EnclosedPorch</th>\n",
              "      <th>3SsnPorch</th>\n",
              "      <th>ScreenPorch</th>\n",
              "      <th>PoolArea</th>\n",
              "      <th>MiscVal</th>\n",
              "      <th>MoSold</th>\n",
              "      <th>YrSold</th>\n",
              "      <th>SaleType</th>\n",
              "      <th>SaleCondition</th>\n",
              "      <th>SalePrice</th>\n",
              "    </tr>\n",
              "  </thead>\n",
              "  <tbody>\n",
              "    <tr>\n",
              "      <th>Id</th>\n",
              "      <td>1.000000</td>\n",
              "      <td>0.016725</td>\n",
              "      <td>0.007394</td>\n",
              "      <td>0.036083</td>\n",
              "      <td>0.006018</td>\n",
              "      <td>0.033823</td>\n",
              "      <td>0.015138</td>\n",
              "      <td>0.013866</td>\n",
              "      <td>0.062311</td>\n",
              "      <td>0.005724</td>\n",
              "      <td>0.012844</td>\n",
              "      <td>0.016067</td>\n",
              "      <td>0.002358</td>\n",
              "      <td>0.016536</td>\n",
              "      <td>0.005109</td>\n",
              "      <td>0.044455</td>\n",
              "      <td>0.011850</td>\n",
              "      <td>0.023595</td>\n",
              "      <td>0.028434</td>\n",
              "      <td>0.040482</td>\n",
              "      <td>0.030305</td>\n",
              "      <td>0.029797</td>\n",
              "      <td>0.039903</td>\n",
              "      <td>0.050936</td>\n",
              "      <td>0.051038</td>\n",
              "      <td>0.002567</td>\n",
              "      <td>0.015349</td>\n",
              "      <td>0.006208</td>\n",
              "      <td>0.063816</td>\n",
              "      <td>0.010862</td>\n",
              "      <td>0.020151</td>\n",
              "      <td>0.004980</td>\n",
              "      <td>0.004919</td>\n",
              "      <td>0.049618</td>\n",
              "      <td>0.004908</td>\n",
              "      <td>0.010196</td>\n",
              "      <td>0.018637</td>\n",
              "      <td>0.039224</td>\n",
              "      <td>0.009265</td>\n",
              "      <td>0.010435</td>\n",
              "      <td>0.023091</td>\n",
              "      <td>0.009750</td>\n",
              "      <td>0.002866</td>\n",
              "      <td>0.047958</td>\n",
              "      <td>0.001067</td>\n",
              "      <td>0.010210</td>\n",
              "      <td>0.028333</td>\n",
              "      <td>0.000334</td>\n",
              "      <td>0.013197</td>\n",
              "      <td>0.041290</td>\n",
              "      <td>0.013834</td>\n",
              "      <td>0.001430</td>\n",
              "      <td>0.022852</td>\n",
              "      <td>0.000368</td>\n",
              "      <td>0.017839</td>\n",
              "      <td>0.000503</td>\n",
              "      <td>0.003114</td>\n",
              "      <td>0.010020</td>\n",
              "      <td>0.009797</td>\n",
              "      <td>0.013658</td>\n",
              "      <td>0.002990</td>\n",
              "      <td>0.010109</td>\n",
              "      <td>0.018115</td>\n",
              "      <td>0.032801</td>\n",
              "      <td>0.005332</td>\n",
              "      <td>0.005106</td>\n",
              "      <td>0.043766</td>\n",
              "      <td>0.000904</td>\n",
              "      <td>0.059455</td>\n",
              "      <td>0.002206</td>\n",
              "      <td>0.020939</td>\n",
              "      <td>0.002241</td>\n",
              "      <td>0.014868</td>\n",
              "      <td>0.000839</td>\n",
              "      <td>0.030473</td>\n",
              "    </tr>\n",
              "    <tr>\n",
              "      <th>MSSubClass</th>\n",
              "      <td>0.016725</td>\n",
              "      <td>1.000000</td>\n",
              "      <td>0.019852</td>\n",
              "      <td>0.134158</td>\n",
              "      <td>0.020591</td>\n",
              "      <td>0.101590</td>\n",
              "      <td>0.004685</td>\n",
              "      <td>0.023965</td>\n",
              "      <td>0.063066</td>\n",
              "      <td>0.012477</td>\n",
              "      <td>0.020367</td>\n",
              "      <td>0.029662</td>\n",
              "      <td>0.045450</td>\n",
              "      <td>0.754404</td>\n",
              "      <td>0.400737</td>\n",
              "      <td>0.051690</td>\n",
              "      <td>0.098153</td>\n",
              "      <td>0.056456</td>\n",
              "      <td>0.038513</td>\n",
              "      <td>0.123296</td>\n",
              "      <td>0.031850</td>\n",
              "      <td>0.082190</td>\n",
              "      <td>0.136680</td>\n",
              "      <td>0.036362</td>\n",
              "      <td>0.031333</td>\n",
              "      <td>0.029122</td>\n",
              "      <td>0.004914</td>\n",
              "      <td>0.075616</td>\n",
              "      <td>0.055934</td>\n",
              "      <td>0.001798</td>\n",
              "      <td>0.044428</td>\n",
              "      <td>0.013231</td>\n",
              "      <td>0.069053</td>\n",
              "      <td>0.055059</td>\n",
              "      <td>0.079329</td>\n",
              "      <td>0.141025</td>\n",
              "      <td>0.263613</td>\n",
              "      <td>0.068728</td>\n",
              "      <td>0.006384</td>\n",
              "      <td>0.098242</td>\n",
              "      <td>0.055732</td>\n",
              "      <td>0.258787</td>\n",
              "      <td>0.306709</td>\n",
              "      <td>0.019990</td>\n",
              "      <td>0.068782</td>\n",
              "      <td>0.011317</td>\n",
              "      <td>0.000151</td>\n",
              "      <td>0.117720</td>\n",
              "      <td>0.197520</td>\n",
              "      <td>0.065699</td>\n",
              "      <td>0.239177</td>\n",
              "      <td>0.008151</td>\n",
              "      <td>0.014514</td>\n",
              "      <td>0.025542</td>\n",
              "      <td>0.024752</td>\n",
              "      <td>0.117953</td>\n",
              "      <td>0.082040</td>\n",
              "      <td>0.009522</td>\n",
              "      <td>0.006872</td>\n",
              "      <td>0.070278</td>\n",
              "      <td>0.004023</td>\n",
              "      <td>0.008049</td>\n",
              "      <td>0.011234</td>\n",
              "      <td>0.010175</td>\n",
              "      <td>0.000359</td>\n",
              "      <td>0.022598</td>\n",
              "      <td>0.041391</td>\n",
              "      <td>0.022748</td>\n",
              "      <td>0.010199</td>\n",
              "      <td>0.021512</td>\n",
              "      <td>0.016283</td>\n",
              "      <td>0.021591</td>\n",
              "      <td>0.011012</td>\n",
              "      <td>0.011692</td>\n",
              "      <td>0.079599</td>\n",
              "    </tr>\n",
              "    <tr>\n",
              "      <th>MSZoning</th>\n",
              "      <td>0.007394</td>\n",
              "      <td>0.019852</td>\n",
              "      <td>1.000000</td>\n",
              "      <td>0.026123</td>\n",
              "      <td>0.100472</td>\n",
              "      <td>0.057472</td>\n",
              "      <td>0.024760</td>\n",
              "      <td>0.001048</td>\n",
              "      <td>0.020602</td>\n",
              "      <td>0.021658</td>\n",
              "      <td>0.262624</td>\n",
              "      <td>0.032014</td>\n",
              "      <td>0.034218</td>\n",
              "      <td>0.000303</td>\n",
              "      <td>0.118250</td>\n",
              "      <td>0.172775</td>\n",
              "      <td>0.189902</td>\n",
              "      <td>0.325488</td>\n",
              "      <td>0.178559</td>\n",
              "      <td>0.013325</td>\n",
              "      <td>0.007029</td>\n",
              "      <td>0.006036</td>\n",
              "      <td>0.022059</td>\n",
              "      <td>0.034057</td>\n",
              "      <td>0.061878</td>\n",
              "      <td>0.195937</td>\n",
              "      <td>0.096381</td>\n",
              "      <td>0.253498</td>\n",
              "      <td>0.128791</td>\n",
              "      <td>0.015496</td>\n",
              "      <td>0.045659</td>\n",
              "      <td>0.027419</td>\n",
              "      <td>0.040978</td>\n",
              "      <td>0.029387</td>\n",
              "      <td>0.025796</td>\n",
              "      <td>0.036063</td>\n",
              "      <td>0.074907</td>\n",
              "      <td>0.046394</td>\n",
              "      <td>0.149369</td>\n",
              "      <td>0.060511</td>\n",
              "      <td>0.091033</td>\n",
              "      <td>0.035350</td>\n",
              "      <td>0.057316</td>\n",
              "      <td>0.055047</td>\n",
              "      <td>0.070431</td>\n",
              "      <td>0.020999</td>\n",
              "      <td>0.010224</td>\n",
              "      <td>0.206548</td>\n",
              "      <td>0.135167</td>\n",
              "      <td>0.001035</td>\n",
              "      <td>0.068867</td>\n",
              "      <td>0.135165</td>\n",
              "      <td>0.031440</td>\n",
              "      <td>0.101504</td>\n",
              "      <td>0.006978</td>\n",
              "      <td>0.134016</td>\n",
              "      <td>0.273974</td>\n",
              "      <td>0.161161</td>\n",
              "      <td>0.156538</td>\n",
              "      <td>0.195546</td>\n",
              "      <td>0.161552</td>\n",
              "      <td>0.092109</td>\n",
              "      <td>0.117913</td>\n",
              "      <td>0.008916</td>\n",
              "      <td>0.142107</td>\n",
              "      <td>0.144068</td>\n",
              "      <td>0.001516</td>\n",
              "      <td>0.022453</td>\n",
              "      <td>0.002750</td>\n",
              "      <td>0.002839</td>\n",
              "      <td>0.011369</td>\n",
              "      <td>0.023209</td>\n",
              "      <td>0.092456</td>\n",
              "      <td>0.003117</td>\n",
              "      <td>0.163809</td>\n",
              "    </tr>\n",
              "    <tr>\n",
              "      <th>LotArea</th>\n",
              "      <td>0.036083</td>\n",
              "      <td>0.134158</td>\n",
              "      <td>0.026123</td>\n",
              "      <td>1.000000</td>\n",
              "      <td>0.215095</td>\n",
              "      <td>0.162595</td>\n",
              "      <td>0.169102</td>\n",
              "      <td>0.009710</td>\n",
              "      <td>0.120209</td>\n",
              "      <td>0.458152</td>\n",
              "      <td>0.044572</td>\n",
              "      <td>0.019012</td>\n",
              "      <td>0.021263</td>\n",
              "      <td>0.204186</td>\n",
              "      <td>0.035477</td>\n",
              "      <td>0.090451</td>\n",
              "      <td>0.001415</td>\n",
              "      <td>0.005022</td>\n",
              "      <td>0.001681</td>\n",
              "      <td>0.069479</td>\n",
              "      <td>0.154279</td>\n",
              "      <td>0.002558</td>\n",
              "      <td>0.007625</td>\n",
              "      <td>0.001761</td>\n",
              "      <td>0.096727</td>\n",
              "      <td>0.050336</td>\n",
              "      <td>0.009181</td>\n",
              "      <td>0.020026</td>\n",
              "      <td>0.057233</td>\n",
              "      <td>0.010486</td>\n",
              "      <td>0.143516</td>\n",
              "      <td>0.055793</td>\n",
              "      <td>0.210148</td>\n",
              "      <td>0.066609</td>\n",
              "      <td>0.110493</td>\n",
              "      <td>0.014589</td>\n",
              "      <td>0.267188</td>\n",
              "      <td>0.087821</td>\n",
              "      <td>0.005351</td>\n",
              "      <td>0.034059</td>\n",
              "      <td>0.039539</td>\n",
              "      <td>0.288502</td>\n",
              "      <td>0.047773</td>\n",
              "      <td>0.009729</td>\n",
              "      <td>0.255445</td>\n",
              "      <td>0.160687</td>\n",
              "      <td>0.046420</td>\n",
              "      <td>0.115727</td>\n",
              "      <td>0.006052</td>\n",
              "      <td>0.120369</td>\n",
              "      <td>0.012611</td>\n",
              "      <td>0.056815</td>\n",
              "      <td>0.185654</td>\n",
              "      <td>0.009886</td>\n",
              "      <td>0.263061</td>\n",
              "      <td>0.130042</td>\n",
              "      <td>0.025700</td>\n",
              "      <td>0.102519</td>\n",
              "      <td>0.138228</td>\n",
              "      <td>0.168630</td>\n",
              "      <td>0.021881</td>\n",
              "      <td>0.030785</td>\n",
              "      <td>0.015528</td>\n",
              "      <td>0.167822</td>\n",
              "      <td>0.084942</td>\n",
              "      <td>0.017968</td>\n",
              "      <td>0.019326</td>\n",
              "      <td>0.038489</td>\n",
              "      <td>0.077050</td>\n",
              "      <td>0.040824</td>\n",
              "      <td>0.000118</td>\n",
              "      <td>0.012066</td>\n",
              "      <td>0.014410</td>\n",
              "      <td>0.031465</td>\n",
              "      <td>0.254757</td>\n",
              "    </tr>\n",
              "    <tr>\n",
              "      <th>Street</th>\n",
              "      <td>0.006018</td>\n",
              "      <td>0.020591</td>\n",
              "      <td>0.100472</td>\n",
              "      <td>0.215095</td>\n",
              "      <td>1.000000</td>\n",
              "      <td>0.004162</td>\n",
              "      <td>0.141519</td>\n",
              "      <td>0.001675</td>\n",
              "      <td>0.022597</td>\n",
              "      <td>0.206116</td>\n",
              "      <td>0.022545</td>\n",
              "      <td>0.079248</td>\n",
              "      <td>0.002211</td>\n",
              "      <td>0.006154</td>\n",
              "      <td>0.047829</td>\n",
              "      <td>0.074926</td>\n",
              "      <td>0.045259</td>\n",
              "      <td>0.036120</td>\n",
              "      <td>0.081711</td>\n",
              "      <td>0.027194</td>\n",
              "      <td>0.007698</td>\n",
              "      <td>0.010513</td>\n",
              "      <td>0.007685</td>\n",
              "      <td>0.004799</td>\n",
              "      <td>0.021509</td>\n",
              "      <td>0.062956</td>\n",
              "      <td>0.020923</td>\n",
              "      <td>0.034879</td>\n",
              "      <td>0.039073</td>\n",
              "      <td>0.017089</td>\n",
              "      <td>0.055693</td>\n",
              "      <td>0.023605</td>\n",
              "      <td>0.005097</td>\n",
              "      <td>0.070718</td>\n",
              "      <td>0.045189</td>\n",
              "      <td>0.026807</td>\n",
              "      <td>0.004796</td>\n",
              "      <td>0.006925</td>\n",
              "      <td>0.046278</td>\n",
              "      <td>0.104057</td>\n",
              "      <td>0.033231</td>\n",
              "      <td>0.002025</td>\n",
              "      <td>0.045046</td>\n",
              "      <td>0.006354</td>\n",
              "      <td>0.037095</td>\n",
              "      <td>0.042928</td>\n",
              "      <td>0.015347</td>\n",
              "      <td>0.042013</td>\n",
              "      <td>0.024649</td>\n",
              "      <td>0.036659</td>\n",
              "      <td>0.010485</td>\n",
              "      <td>0.020404</td>\n",
              "      <td>0.044454</td>\n",
              "      <td>0.015036</td>\n",
              "      <td>0.014360</td>\n",
              "      <td>0.004978</td>\n",
              "      <td>0.027690</td>\n",
              "      <td>0.001836</td>\n",
              "      <td>0.051055</td>\n",
              "      <td>0.084293</td>\n",
              "      <td>0.013826</td>\n",
              "      <td>0.011665</td>\n",
              "      <td>0.044243</td>\n",
              "      <td>0.026813</td>\n",
              "      <td>0.008265</td>\n",
              "      <td>0.021412</td>\n",
              "      <td>0.007269</td>\n",
              "      <td>0.038169</td>\n",
              "      <td>0.004396</td>\n",
              "      <td>0.026514</td>\n",
              "      <td>0.001547</td>\n",
              "      <td>0.036572</td>\n",
              "      <td>0.019380</td>\n",
              "      <td>0.011846</td>\n",
              "      <td>0.042106</td>\n",
              "    </tr>\n",
              "    <tr>\n",
              "      <th>...</th>\n",
              "      <td>...</td>\n",
              "      <td>...</td>\n",
              "      <td>...</td>\n",
              "      <td>...</td>\n",
              "      <td>...</td>\n",
              "      <td>...</td>\n",
              "      <td>...</td>\n",
              "      <td>...</td>\n",
              "      <td>...</td>\n",
              "      <td>...</td>\n",
              "      <td>...</td>\n",
              "      <td>...</td>\n",
              "      <td>...</td>\n",
              "      <td>...</td>\n",
              "      <td>...</td>\n",
              "      <td>...</td>\n",
              "      <td>...</td>\n",
              "      <td>...</td>\n",
              "      <td>...</td>\n",
              "      <td>...</td>\n",
              "      <td>...</td>\n",
              "      <td>...</td>\n",
              "      <td>...</td>\n",
              "      <td>...</td>\n",
              "      <td>...</td>\n",
              "      <td>...</td>\n",
              "      <td>...</td>\n",
              "      <td>...</td>\n",
              "      <td>...</td>\n",
              "      <td>...</td>\n",
              "      <td>...</td>\n",
              "      <td>...</td>\n",
              "      <td>...</td>\n",
              "      <td>...</td>\n",
              "      <td>...</td>\n",
              "      <td>...</td>\n",
              "      <td>...</td>\n",
              "      <td>...</td>\n",
              "      <td>...</td>\n",
              "      <td>...</td>\n",
              "      <td>...</td>\n",
              "      <td>...</td>\n",
              "      <td>...</td>\n",
              "      <td>...</td>\n",
              "      <td>...</td>\n",
              "      <td>...</td>\n",
              "      <td>...</td>\n",
              "      <td>...</td>\n",
              "      <td>...</td>\n",
              "      <td>...</td>\n",
              "      <td>...</td>\n",
              "      <td>...</td>\n",
              "      <td>...</td>\n",
              "      <td>...</td>\n",
              "      <td>...</td>\n",
              "      <td>...</td>\n",
              "      <td>...</td>\n",
              "      <td>...</td>\n",
              "      <td>...</td>\n",
              "      <td>...</td>\n",
              "      <td>...</td>\n",
              "      <td>...</td>\n",
              "      <td>...</td>\n",
              "      <td>...</td>\n",
              "      <td>...</td>\n",
              "      <td>...</td>\n",
              "      <td>...</td>\n",
              "      <td>...</td>\n",
              "      <td>...</td>\n",
              "      <td>...</td>\n",
              "      <td>...</td>\n",
              "      <td>...</td>\n",
              "      <td>...</td>\n",
              "      <td>...</td>\n",
              "      <td>...</td>\n",
              "    </tr>\n",
              "    <tr>\n",
              "      <th>MoSold</th>\n",
              "      <td>0.020939</td>\n",
              "      <td>0.016283</td>\n",
              "      <td>0.011369</td>\n",
              "      <td>0.000118</td>\n",
              "      <td>0.001547</td>\n",
              "      <td>0.043968</td>\n",
              "      <td>0.019251</td>\n",
              "      <td>0.054038</td>\n",
              "      <td>0.016537</td>\n",
              "      <td>0.021693</td>\n",
              "      <td>0.005944</td>\n",
              "      <td>0.009549</td>\n",
              "      <td>0.007912</td>\n",
              "      <td>0.035082</td>\n",
              "      <td>0.028917</td>\n",
              "      <td>0.062641</td>\n",
              "      <td>0.011772</td>\n",
              "      <td>0.004396</td>\n",
              "      <td>0.014552</td>\n",
              "      <td>0.009906</td>\n",
              "      <td>0.028838</td>\n",
              "      <td>0.001282</td>\n",
              "      <td>0.010314</td>\n",
              "      <td>0.008674</td>\n",
              "      <td>0.013461</td>\n",
              "      <td>0.025471</td>\n",
              "      <td>0.004393</td>\n",
              "      <td>0.004494</td>\n",
              "      <td>0.002258</td>\n",
              "      <td>0.035777</td>\n",
              "      <td>0.022276</td>\n",
              "      <td>0.054163</td>\n",
              "      <td>0.021242</td>\n",
              "      <td>0.034968</td>\n",
              "      <td>0.022039</td>\n",
              "      <td>0.031202</td>\n",
              "      <td>0.000787</td>\n",
              "      <td>0.011237</td>\n",
              "      <td>0.010118</td>\n",
              "      <td>0.000322</td>\n",
              "      <td>0.013173</td>\n",
              "      <td>0.024109</td>\n",
              "      <td>0.042201</td>\n",
              "      <td>0.027212</td>\n",
              "      <td>0.051474</td>\n",
              "      <td>0.022993</td>\n",
              "      <td>0.026507</td>\n",
              "      <td>0.058436</td>\n",
              "      <td>0.010915</td>\n",
              "      <td>0.049966</td>\n",
              "      <td>0.036045</td>\n",
              "      <td>0.046969</td>\n",
              "      <td>0.041562</td>\n",
              "      <td>0.013188</td>\n",
              "      <td>0.055795</td>\n",
              "      <td>0.009122</td>\n",
              "      <td>0.002463</td>\n",
              "      <td>0.015001</td>\n",
              "      <td>0.032796</td>\n",
              "      <td>0.016794</td>\n",
              "      <td>0.012103</td>\n",
              "      <td>0.003638</td>\n",
              "      <td>0.011507</td>\n",
              "      <td>0.031197</td>\n",
              "      <td>0.060913</td>\n",
              "      <td>0.022169</td>\n",
              "      <td>0.031341</td>\n",
              "      <td>0.023331</td>\n",
              "      <td>0.035568</td>\n",
              "      <td>0.008498</td>\n",
              "      <td>1.000000</td>\n",
              "      <td>0.144862</td>\n",
              "      <td>0.038388</td>\n",
              "      <td>0.026561</td>\n",
              "      <td>0.041310</td>\n",
              "    </tr>\n",
              "    <tr>\n",
              "      <th>YrSold</th>\n",
              "      <td>0.002241</td>\n",
              "      <td>0.021591</td>\n",
              "      <td>0.023209</td>\n",
              "      <td>0.012066</td>\n",
              "      <td>0.036572</td>\n",
              "      <td>0.031659</td>\n",
              "      <td>0.018654</td>\n",
              "      <td>0.024555</td>\n",
              "      <td>0.007448</td>\n",
              "      <td>0.000975</td>\n",
              "      <td>0.037857</td>\n",
              "      <td>0.018511</td>\n",
              "      <td>0.019782</td>\n",
              "      <td>0.000169</td>\n",
              "      <td>0.017118</td>\n",
              "      <td>0.013949</td>\n",
              "      <td>0.056340</td>\n",
              "      <td>0.007898</td>\n",
              "      <td>0.034503</td>\n",
              "      <td>0.009699</td>\n",
              "      <td>0.027957</td>\n",
              "      <td>0.037769</td>\n",
              "      <td>0.034873</td>\n",
              "      <td>0.059529</td>\n",
              "      <td>0.001521</td>\n",
              "      <td>0.037885</td>\n",
              "      <td>0.024958</td>\n",
              "      <td>0.012118</td>\n",
              "      <td>0.018310</td>\n",
              "      <td>0.091770</td>\n",
              "      <td>0.054958</td>\n",
              "      <td>0.049811</td>\n",
              "      <td>0.023958</td>\n",
              "      <td>0.033976</td>\n",
              "      <td>0.032855</td>\n",
              "      <td>0.039076</td>\n",
              "      <td>0.001823</td>\n",
              "      <td>0.007283</td>\n",
              "      <td>0.013373</td>\n",
              "      <td>0.011169</td>\n",
              "      <td>0.025864</td>\n",
              "      <td>0.011258</td>\n",
              "      <td>0.034826</td>\n",
              "      <td>0.020533</td>\n",
              "      <td>0.039424</td>\n",
              "      <td>0.072016</td>\n",
              "      <td>0.042466</td>\n",
              "      <td>0.025019</td>\n",
              "      <td>0.011440</td>\n",
              "      <td>0.046440</td>\n",
              "      <td>0.005704</td>\n",
              "      <td>0.014805</td>\n",
              "      <td>0.046446</td>\n",
              "      <td>0.002259</td>\n",
              "      <td>0.018577</td>\n",
              "      <td>0.001410</td>\n",
              "      <td>0.002948</td>\n",
              "      <td>0.011293</td>\n",
              "      <td>0.037593</td>\n",
              "      <td>0.022030</td>\n",
              "      <td>0.040532</td>\n",
              "      <td>0.031837</td>\n",
              "      <td>0.001041</td>\n",
              "      <td>0.021833</td>\n",
              "      <td>0.062848</td>\n",
              "      <td>0.006165</td>\n",
              "      <td>0.023326</td>\n",
              "      <td>0.013332</td>\n",
              "      <td>0.061701</td>\n",
              "      <td>0.002566</td>\n",
              "      <td>0.144862</td>\n",
              "      <td>1.000000</td>\n",
              "      <td>0.005334</td>\n",
              "      <td>0.006214</td>\n",
              "      <td>0.020451</td>\n",
              "    </tr>\n",
              "    <tr>\n",
              "      <th>SaleType</th>\n",
              "      <td>0.014868</td>\n",
              "      <td>0.011012</td>\n",
              "      <td>0.092456</td>\n",
              "      <td>0.014410</td>\n",
              "      <td>0.019380</td>\n",
              "      <td>0.007836</td>\n",
              "      <td>0.027535</td>\n",
              "      <td>0.129813</td>\n",
              "      <td>0.007544</td>\n",
              "      <td>0.055246</td>\n",
              "      <td>0.034072</td>\n",
              "      <td>0.001868</td>\n",
              "      <td>0.002637</td>\n",
              "      <td>0.043750</td>\n",
              "      <td>0.048060</td>\n",
              "      <td>0.052875</td>\n",
              "      <td>0.095240</td>\n",
              "      <td>0.042295</td>\n",
              "      <td>0.037243</td>\n",
              "      <td>0.033347</td>\n",
              "      <td>0.010138</td>\n",
              "      <td>0.002595</td>\n",
              "      <td>0.011154</td>\n",
              "      <td>0.027635</td>\n",
              "      <td>0.049838</td>\n",
              "      <td>0.075096</td>\n",
              "      <td>0.014208</td>\n",
              "      <td>0.007744</td>\n",
              "      <td>0.063661</td>\n",
              "      <td>0.021058</td>\n",
              "      <td>0.002049</td>\n",
              "      <td>0.057259</td>\n",
              "      <td>0.009937</td>\n",
              "      <td>0.015419</td>\n",
              "      <td>0.031657</td>\n",
              "      <td>0.088287</td>\n",
              "      <td>0.097507</td>\n",
              "      <td>0.001431</td>\n",
              "      <td>0.018955</td>\n",
              "      <td>0.012472</td>\n",
              "      <td>0.027070</td>\n",
              "      <td>0.120606</td>\n",
              "      <td>0.061814</td>\n",
              "      <td>0.032828</td>\n",
              "      <td>0.034725</td>\n",
              "      <td>0.028907</td>\n",
              "      <td>0.000979</td>\n",
              "      <td>0.031109</td>\n",
              "      <td>0.035194</td>\n",
              "      <td>0.041124</td>\n",
              "      <td>0.013543</td>\n",
              "      <td>0.028793</td>\n",
              "      <td>0.039704</td>\n",
              "      <td>0.005349</td>\n",
              "      <td>0.024195</td>\n",
              "      <td>0.031419</td>\n",
              "      <td>0.033024</td>\n",
              "      <td>0.038704</td>\n",
              "      <td>0.059681</td>\n",
              "      <td>0.084238</td>\n",
              "      <td>0.031706</td>\n",
              "      <td>0.016437</td>\n",
              "      <td>0.047410</td>\n",
              "      <td>0.061895</td>\n",
              "      <td>0.012600</td>\n",
              "      <td>0.014236</td>\n",
              "      <td>0.009785</td>\n",
              "      <td>0.006998</td>\n",
              "      <td>0.011886</td>\n",
              "      <td>0.014457</td>\n",
              "      <td>0.038388</td>\n",
              "      <td>0.005334</td>\n",
              "      <td>1.000000</td>\n",
              "      <td>0.202453</td>\n",
              "      <td>0.045856</td>\n",
              "    </tr>\n",
              "    <tr>\n",
              "      <th>SaleCondition</th>\n",
              "      <td>0.000839</td>\n",
              "      <td>0.011692</td>\n",
              "      <td>0.003117</td>\n",
              "      <td>0.031465</td>\n",
              "      <td>0.011846</td>\n",
              "      <td>0.032899</td>\n",
              "      <td>0.005750</td>\n",
              "      <td>0.098211</td>\n",
              "      <td>0.059447</td>\n",
              "      <td>0.059367</td>\n",
              "      <td>0.015369</td>\n",
              "      <td>0.050812</td>\n",
              "      <td>0.038106</td>\n",
              "      <td>0.006899</td>\n",
              "      <td>0.012077</td>\n",
              "      <td>0.188789</td>\n",
              "      <td>0.003052</td>\n",
              "      <td>0.197791</td>\n",
              "      <td>0.229830</td>\n",
              "      <td>0.068530</td>\n",
              "      <td>0.043150</td>\n",
              "      <td>0.060192</td>\n",
              "      <td>0.066983</td>\n",
              "      <td>0.095619</td>\n",
              "      <td>0.080231</td>\n",
              "      <td>0.196357</td>\n",
              "      <td>0.060550</td>\n",
              "      <td>0.166786</td>\n",
              "      <td>0.183587</td>\n",
              "      <td>0.005927</td>\n",
              "      <td>0.080574</td>\n",
              "      <td>0.039039</td>\n",
              "      <td>0.022267</td>\n",
              "      <td>0.051324</td>\n",
              "      <td>0.076676</td>\n",
              "      <td>0.110839</td>\n",
              "      <td>0.114008</td>\n",
              "      <td>0.016549</td>\n",
              "      <td>0.157498</td>\n",
              "      <td>0.051065</td>\n",
              "      <td>0.088505</td>\n",
              "      <td>0.070534</td>\n",
              "      <td>0.041397</td>\n",
              "      <td>0.013624</td>\n",
              "      <td>0.086337</td>\n",
              "      <td>0.000678</td>\n",
              "      <td>0.058976</td>\n",
              "      <td>0.145882</td>\n",
              "      <td>0.063179</td>\n",
              "      <td>0.022435</td>\n",
              "      <td>0.069464</td>\n",
              "      <td>0.142449</td>\n",
              "      <td>0.091516</td>\n",
              "      <td>0.036849</td>\n",
              "      <td>0.092190</td>\n",
              "      <td>0.100175</td>\n",
              "      <td>0.206098</td>\n",
              "      <td>0.145953</td>\n",
              "      <td>0.146238</td>\n",
              "      <td>0.142293</td>\n",
              "      <td>0.057562</td>\n",
              "      <td>0.028940</td>\n",
              "      <td>0.021578</td>\n",
              "      <td>0.048266</td>\n",
              "      <td>0.088313</td>\n",
              "      <td>0.115526</td>\n",
              "      <td>0.000002</td>\n",
              "      <td>0.031065</td>\n",
              "      <td>0.075309</td>\n",
              "      <td>0.009747</td>\n",
              "      <td>0.026561</td>\n",
              "      <td>0.006214</td>\n",
              "      <td>0.202453</td>\n",
              "      <td>1.000000</td>\n",
              "      <td>0.202301</td>\n",
              "    </tr>\n",
              "    <tr>\n",
              "      <th>SalePrice</th>\n",
              "      <td>0.030473</td>\n",
              "      <td>0.079599</td>\n",
              "      <td>0.163809</td>\n",
              "      <td>0.254757</td>\n",
              "      <td>0.042106</td>\n",
              "      <td>0.253092</td>\n",
              "      <td>0.001517</td>\n",
              "      <td>0.017079</td>\n",
              "      <td>0.065735</td>\n",
              "      <td>0.061629</td>\n",
              "      <td>0.199677</td>\n",
              "      <td>0.075032</td>\n",
              "      <td>0.001891</td>\n",
              "      <td>0.081880</td>\n",
              "      <td>0.161008</td>\n",
              "      <td>0.783546</td>\n",
              "      <td>0.108627</td>\n",
              "      <td>0.504297</td>\n",
              "      <td>0.501435</td>\n",
              "      <td>0.225370</td>\n",
              "      <td>0.143814</td>\n",
              "      <td>0.097942</td>\n",
              "      <td>0.104416</td>\n",
              "      <td>0.041257</td>\n",
              "      <td>0.465811</td>\n",
              "      <td>0.648023</td>\n",
              "      <td>0.094443</td>\n",
              "      <td>0.444516</td>\n",
              "      <td>0.611833</td>\n",
              "      <td>0.061613</td>\n",
              "      <td>0.290303</td>\n",
              "      <td>0.048153</td>\n",
              "      <td>0.359677</td>\n",
              "      <td>0.053233</td>\n",
              "      <td>0.031226</td>\n",
              "      <td>0.191689</td>\n",
              "      <td>0.602042</td>\n",
              "      <td>0.050639</td>\n",
              "      <td>0.405651</td>\n",
              "      <td>0.199759</td>\n",
              "      <td>0.211189</td>\n",
              "      <td>0.604714</td>\n",
              "      <td>0.311354</td>\n",
              "      <td>0.009992</td>\n",
              "      <td>0.711706</td>\n",
              "      <td>0.209695</td>\n",
              "      <td>0.030175</td>\n",
              "      <td>0.569313</td>\n",
              "      <td>0.258175</td>\n",
              "      <td>0.169266</td>\n",
              "      <td>0.111408</td>\n",
              "      <td>0.616867</td>\n",
              "      <td>0.551821</td>\n",
              "      <td>0.106930</td>\n",
              "      <td>0.445434</td>\n",
              "      <td>0.348401</td>\n",
              "      <td>0.481730</td>\n",
              "      <td>0.508232</td>\n",
              "      <td>0.640154</td>\n",
              "      <td>0.607535</td>\n",
              "      <td>0.120792</td>\n",
              "      <td>0.147925</td>\n",
              "      <td>0.176609</td>\n",
              "      <td>0.305983</td>\n",
              "      <td>0.322786</td>\n",
              "      <td>0.127385</td>\n",
              "      <td>0.042159</td>\n",
              "      <td>0.096624</td>\n",
              "      <td>0.091881</td>\n",
              "      <td>0.016990</td>\n",
              "      <td>0.041310</td>\n",
              "      <td>0.020451</td>\n",
              "      <td>0.045856</td>\n",
              "      <td>0.202301</td>\n",
              "      <td>1.000000</td>\n",
              "    </tr>\n",
              "  </tbody>\n",
              "</table>\n",
              "<p>75 rows × 75 columns</p>\n",
              "</div>"
            ],
            "text/plain": [
              "                     Id  MSSubClass  ...  SaleCondition  SalePrice\n",
              "Id             1.000000    0.016725  ...       0.000839   0.030473\n",
              "MSSubClass     0.016725    1.000000  ...       0.011692   0.079599\n",
              "MSZoning       0.007394    0.019852  ...       0.003117   0.163809\n",
              "LotArea        0.036083    0.134158  ...       0.031465   0.254757\n",
              "Street         0.006018    0.020591  ...       0.011846   0.042106\n",
              "...                 ...         ...  ...            ...        ...\n",
              "MoSold         0.020939    0.016283  ...       0.026561   0.041310\n",
              "YrSold         0.002241    0.021591  ...       0.006214   0.020451\n",
              "SaleType       0.014868    0.011012  ...       0.202453   0.045856\n",
              "SaleCondition  0.000839    0.011692  ...       1.000000   0.202301\n",
              "SalePrice      0.030473    0.079599  ...       0.202301   1.000000\n",
              "\n",
              "[75 rows x 75 columns]"
            ]
          },
          "metadata": {
            "tags": []
          },
          "execution_count": 21
        }
      ]
    },
    {
      "cell_type": "markdown",
      "metadata": {
        "id": "kTZMz8VsRaZD"
      },
      "source": [
        "We see a lot of low corelation features that can be removed."
      ]
    },
    {
      "cell_type": "code",
      "metadata": {
        "id": "8UKBlbLbheH4"
      },
      "source": [
        "corr_matrix = df.corr().abs()"
      ],
      "execution_count": 22,
      "outputs": []
    },
    {
      "cell_type": "code",
      "metadata": {
        "id": "OGSWngy_siTN"
      },
      "source": [
        "sp_corr = corr_matrix['SalePrice']"
      ],
      "execution_count": 23,
      "outputs": []
    },
    {
      "cell_type": "code",
      "metadata": {
        "id": "hmFlTcO5o5lX",
        "colab": {
          "base_uri": "https://localhost:8080/"
        },
        "outputId": "f5b16347-c94f-441d-d7a5-69d622e0e3ef"
      },
      "source": [
        "sp_corr"
      ],
      "execution_count": 24,
      "outputs": [
        {
          "output_type": "execute_result",
          "data": {
            "text/plain": [
              "Id               0.030473\n",
              "MSSubClass       0.079599\n",
              "MSZoning         0.163809\n",
              "LotArea          0.254757\n",
              "Street           0.042106\n",
              "                   ...   \n",
              "MoSold           0.041310\n",
              "YrSold           0.020451\n",
              "SaleType         0.045856\n",
              "SaleCondition    0.202301\n",
              "SalePrice        1.000000\n",
              "Name: SalePrice, Length: 75, dtype: float64"
            ]
          },
          "metadata": {
            "tags": []
          },
          "execution_count": 24
        }
      ]
    },
    {
      "cell_type": "code",
      "metadata": {
        "id": "5akRItQEizw5"
      },
      "source": [
        "to_drop=[]\n",
        "for i in range(len(sp_corr)):\n",
        "  if sp_corr[i] < 0.3:\n",
        "    to_drop.append(i)\n",
        "df = df.drop(df.columns[to_drop],axis=1)"
      ],
      "execution_count": 25,
      "outputs": []
    },
    {
      "cell_type": "code",
      "metadata": {
        "colab": {
          "base_uri": "https://localhost:8080/",
          "height": 1000
        },
        "id": "bLsqdYHG0fX3",
        "outputId": "268ac581-df07-44fd-aa0f-1cd027d49e9f"
      },
      "source": [
        "fig, ax = plt.subplots(ncols=5,nrows=5, figsize = (22,20))\n",
        "index = 0\n",
        "ax = ax.flatten()\n",
        "\n",
        "for col, value in df.items():\n",
        "  sns.boxplot(y=col, data=df, ax=ax[index])\n",
        "  index+=1"
      ],
      "execution_count": 26,
      "outputs": [
        {
          "output_type": "display_data",
          "data": {
            "image/png": "[encoded data removed]",
            "text/plain": [
              "<Figure size 1584x1440 with 25 Axes>"
            ]
          },
          "metadata": {
            "tags": [],
            "needs_background": "light"
          }
        }
      ]
    },
    {
      "cell_type": "markdown",
      "metadata": {
        "id": "wqo1mjFpSXsF"
      },
      "source": [
        "We see some columns have some outliers but we expect to treat them"
      ]
    },
    {
      "cell_type": "code",
      "metadata": {
        "colab": {
          "base_uri": "https://localhost:8080/",
          "height": 282
        },
        "id": "gXEgHb_pTfQa",
        "outputId": "bc8af62e-adfa-46ab-a513-4d464402254b"
      },
      "source": [
        "df.boxplot('GarageArea')"
      ],
      "execution_count": 27,
      "outputs": [
        {
          "output_type": "execute_result",
          "data": {
            "text/plain": [
              "<matplotlib.axes._subplots.AxesSubplot at 0x7fadb3d953d0>"
            ]
          },
          "metadata": {
            "tags": []
          },
          "execution_count": 27
        },
        {
          "output_type": "display_data",
          "data": {
            "image/png": "[encoded data removed]",
            "text/plain": [
              "<Figure size 432x288 with 1 Axes>"
            ]
          },
          "metadata": {
            "tags": [],
            "needs_background": "light"
          }
        }
      ]
    },
    {
      "cell_type": "code",
      "metadata": {
        "id": "lA-K0HxcTvSy"
      },
      "source": [
        "df = df[df.GarageArea <1000]"
      ],
      "execution_count": 28,
      "outputs": []
    },
    {
      "cell_type": "code",
      "metadata": {
        "colab": {
          "base_uri": "https://localhost:8080/",
          "height": 282
        },
        "id": "Ls6aQgFRUd6F",
        "outputId": "977ae8d4-701a-40b7-b387-6a8f5bf5dc50"
      },
      "source": [
        "df.boxplot('GrLivArea')"
      ],
      "execution_count": 29,
      "outputs": [
        {
          "output_type": "execute_result",
          "data": {
            "text/plain": [
              "<matplotlib.axes._subplots.AxesSubplot at 0x7fadb4445890>"
            ]
          },
          "metadata": {
            "tags": []
          },
          "execution_count": 29
        },
        {
          "output_type": "display_data",
          "data": {
            "image/png": "[encoded data removed]",
            "text/plain": [
              "<Figure size 432x288 with 1 Axes>"
            ]
          },
          "metadata": {
            "tags": [],
            "needs_background": "light"
          }
        }
      ]
    },
    {
      "cell_type": "code",
      "metadata": {
        "id": "NHG43DlDUppi"
      },
      "source": [
        "df=df[df.GrLivArea<3000]"
      ],
      "execution_count": 30,
      "outputs": []
    },
    {
      "cell_type": "code",
      "metadata": {
        "colab": {
          "base_uri": "https://localhost:8080/",
          "height": 282
        },
        "id": "vMTj7qjnavhK",
        "outputId": "4637820f-5d11-4501-f77e-d4aefeefed83"
      },
      "source": [
        "df.boxplot('TotalBsmtSF')"
      ],
      "execution_count": 31,
      "outputs": [
        {
          "output_type": "execute_result",
          "data": {
            "text/plain": [
              "<matplotlib.axes._subplots.AxesSubplot at 0x7fadb3f79450>"
            ]
          },
          "metadata": {
            "tags": []
          },
          "execution_count": 31
        },
        {
          "output_type": "display_data",
          "data": {
            "image/png": "[encoded data removed]",
            "text/plain": [
              "<Figure size 432x288 with 1 Axes>"
            ]
          },
          "metadata": {
            "tags": [],
            "needs_background": "light"
          }
        }
      ]
    },
    {
      "cell_type": "code",
      "metadata": {
        "id": "3L2f2-6Qa68D"
      },
      "source": [
        "df=df[df.TotalBsmtSF<2000]"
      ],
      "execution_count": 32,
      "outputs": []
    },
    {
      "cell_type": "markdown",
      "metadata": {
        "id": "trTcQUfg239-"
      },
      "source": [
        "Checking Shape to see the new DF Dimensions after droping rows and columns."
      ]
    },
    {
      "cell_type": "code",
      "metadata": {
        "colab": {
          "base_uri": "https://localhost:8080/"
        },
        "id": "H4Famz7qiMR4",
        "outputId": "136a572f-6808-4201-91a7-6bfe696289b3"
      },
      "source": [
        "df.shape"
      ],
      "execution_count": 33,
      "outputs": [
        {
          "output_type": "execute_result",
          "data": {
            "text/plain": [
              "(1291, 25)"
            ]
          },
          "metadata": {
            "tags": []
          },
          "execution_count": 33
        }
      ]
    },
    {
      "cell_type": "markdown",
      "metadata": {
        "id": "bUmFf0w22xpB"
      },
      "source": [
        "## Checking Histograms For Skewed Data"
      ]
    },
    {
      "cell_type": "code",
      "metadata": {
        "colab": {
          "base_uri": "https://localhost:8080/",
          "height": 1000
        },
        "id": "tLLGcfLCx4G-",
        "outputId": "06c04720-cc8d-4ca3-cf50-56760e61de37"
      },
      "source": [
        "df.hist(figsize=(22,20))"
      ],
      "execution_count": 34,
      "outputs": [
        {
          "output_type": "execute_result",
          "data": {
            "text/plain": [
              "array([[<matplotlib.axes._subplots.AxesSubplot object at 0x7fadb3a3a210>,\n",
              "        <matplotlib.axes._subplots.AxesSubplot object at 0x7fadb3a035d0>,\n",
              "        <matplotlib.axes._subplots.AxesSubplot object at 0x7fadb39b3c50>,\n",
              "        <matplotlib.axes._subplots.AxesSubplot object at 0x7fadb3972310>,\n",
              "        <matplotlib.axes._subplots.AxesSubplot object at 0x7fadb39a8990>],\n",
              "       [<matplotlib.axes._subplots.AxesSubplot object at 0x7fadb395dfd0>,\n",
              "        <matplotlib.axes._subplots.AxesSubplot object at 0x7fadb3920750>,\n",
              "        <matplotlib.axes._subplots.AxesSubplot object at 0x7fadb38d5d10>,\n",
              "        <matplotlib.axes._subplots.AxesSubplot object at 0x7fadb38d5d50>,\n",
              "        <matplotlib.axes._subplots.AxesSubplot object at 0x7fadb3897510>],\n",
              "       [<matplotlib.axes._subplots.AxesSubplot object at 0x7fadb3812150>,\n",
              "        <matplotlib.axes._subplots.AxesSubplot object at 0x7fadb37c57d0>,\n",
              "        <matplotlib.axes._subplots.AxesSubplot object at 0x7fadb377de50>,\n",
              "        <matplotlib.axes._subplots.AxesSubplot object at 0x7fadb3740510>,\n",
              "        <matplotlib.axes._subplots.AxesSubplot object at 0x7fadb36f5b90>],\n",
              "       [<matplotlib.axes._subplots.AxesSubplot object at 0x7fadb36b7250>,\n",
              "        <matplotlib.axes._subplots.AxesSubplot object at 0x7fadb36eb8d0>,\n",
              "        <matplotlib.axes._subplots.AxesSubplot object at 0x7fadb36a3f50>,\n",
              "        <matplotlib.axes._subplots.AxesSubplot object at 0x7fadb3665610>,\n",
              "        <matplotlib.axes._subplots.AxesSubplot object at 0x7fadb361dd50>],\n",
              "       [<matplotlib.axes._subplots.AxesSubplot object at 0x7fadb35df410>,\n",
              "        <matplotlib.axes._subplots.AxesSubplot object at 0x7fadb3596850>,\n",
              "        <matplotlib.axes._subplots.AxesSubplot object at 0x7fadb354be10>,\n",
              "        <matplotlib.axes._subplots.AxesSubplot object at 0x7fadb350e3d0>,\n",
              "        <matplotlib.axes._subplots.AxesSubplot object at 0x7fadb34c4950>]],\n",
              "      dtype=object)"
            ]
          },
          "metadata": {
            "tags": []
          },
          "execution_count": 34
        },
        {
          "output_type": "display_data",
          "data": {
            "image/png": "[encoded data removed]",
            "text/plain": [
              "<Figure size 1584x1440 with 25 Axes>"
            ]
          },
          "metadata": {
            "tags": [],
            "needs_background": "light"
          }
        }
      ]
    },
    {
      "cell_type": "code",
      "metadata": {
        "colab": {
          "base_uri": "https://localhost:8080/"
        },
        "id": "8IFf6o2Ed4bd",
        "outputId": "4e9dd9f2-c241-4311-cd16-3d7cd93e33f7"
      },
      "source": [
        "for i in df.columns:\n",
        "  if abs(df[i].skew())>0.5:\n",
        "    print(i,df[i].skew())"
      ],
      "execution_count": 35,
      "outputs": [
        {
          "output_type": "stream",
          "text": [
            "YearBuilt -0.6486791868424744\n",
            "YearRemodAdd -0.5382684533681956\n",
            "MasVnrArea 2.5159998665744374\n",
            "ExterQual -1.7424478915277075\n",
            "BsmtQual -1.3248563708313121\n",
            "BsmtFinSF1 0.6030293200858708\n",
            "1stFlrSF 0.6051474613362104\n",
            "2ndFlrSF 0.6799187113300081\n",
            "GrLivArea 0.616584897816815\n",
            "KitchenQual -1.4613852403991585\n",
            "TotRmsAbvGrd 0.5898022276673524\n",
            "Fireplaces 0.5837166906958605\n",
            "GarageType 0.7677332718493073\n",
            "GarageYrBlt -0.6434696475202484\n",
            "WoodDeckSF 1.5424370903800733\n",
            "OpenPorchSF 2.2608769220892135\n",
            "SalePrice 1.2185186504010768\n"
          ],
          "name": "stdout"
        }
      ]
    },
    {
      "cell_type": "markdown",
      "metadata": {
        "id": "PR_P4e-XejMJ"
      },
      "source": [
        "We see most of them are more than 1 and we need to transform them."
      ]
    },
    {
      "cell_type": "markdown",
      "metadata": {
        "id": "Osdp2FS9e-bx"
      },
      "source": [
        "We need to apply log transform to SalePrice as it is highly skewed."
      ]
    },
    {
      "cell_type": "code",
      "metadata": {
        "colab": {
          "base_uri": "https://localhost:8080/",
          "height": 296
        },
        "id": "BaXDg-sw-_7J",
        "outputId": "36c1c28d-d887-46a1-8661-75c82acfaf1e"
      },
      "source": [
        "sns.histplot(df['SalePrice'],kde=True)"
      ],
      "execution_count": 36,
      "outputs": [
        {
          "output_type": "execute_result",
          "data": {
            "text/plain": [
              "<matplotlib.axes._subplots.AxesSubplot at 0x7fadb2fa0a90>"
            ]
          },
          "metadata": {
            "tags": []
          },
          "execution_count": 36
        },
        {
          "output_type": "display_data",
          "data": {
            "image/png": "[encoded data removed]",
            "text/plain": [
              "<Figure size 432x288 with 1 Axes>"
            ]
          },
          "metadata": {
            "tags": [],
            "needs_background": "light"
          }
        }
      ]
    },
    {
      "cell_type": "code",
      "metadata": {
        "colab": {
          "base_uri": "https://localhost:8080/"
        },
        "id": "Dju76IWb_j1N",
        "outputId": "68f717ff-7134-4545-89eb-36cc6b62db4a"
      },
      "source": [
        "df['SalePrice'].skew()"
      ],
      "execution_count": 37,
      "outputs": [
        {
          "output_type": "execute_result",
          "data": {
            "text/plain": [
              "1.2185186504010768"
            ]
          },
          "metadata": {
            "tags": []
          },
          "execution_count": 37
        }
      ]
    },
    {
      "cell_type": "code",
      "metadata": {
        "colab": {
          "base_uri": "https://localhost:8080/",
          "height": 296
        },
        "id": "a-qbE02g_Gp3",
        "outputId": "6f23a12f-8c64-4663-b73a-988d130ae49c"
      },
      "source": [
        "sns.histplot(np.log10(df['SalePrice']),kde=True)"
      ],
      "execution_count": 38,
      "outputs": [
        {
          "output_type": "execute_result",
          "data": {
            "text/plain": [
              "<matplotlib.axes._subplots.AxesSubplot at 0x7fadb2d42e90>"
            ]
          },
          "metadata": {
            "tags": []
          },
          "execution_count": 38
        },
        {
          "output_type": "display_data",
          "data": {
            "image/png": "[encoded data removed]",
            "text/plain": [
              "<Figure size 432x288 with 1 Axes>"
            ]
          },
          "metadata": {
            "tags": [],
            "needs_background": "light"
          }
        }
      ]
    },
    {
      "cell_type": "code",
      "metadata": {
        "colab": {
          "base_uri": "https://localhost:8080/"
        },
        "id": "jen6Y_fE_ZmF",
        "outputId": "c0656a1a-6d96-42c6-a53e-b586e3037587"
      },
      "source": [
        "np.log10(df['SalePrice']).skew()"
      ],
      "execution_count": 39,
      "outputs": [
        {
          "output_type": "execute_result",
          "data": {
            "text/plain": [
              "0.05765445952183336"
            ]
          },
          "metadata": {
            "tags": []
          },
          "execution_count": 39
        }
      ]
    },
    {
      "cell_type": "code",
      "metadata": {
        "id": "ERb9-kJC_MGb"
      },
      "source": [
        "df['SalePrice'] = np.log(df['SalePrice'])"
      ],
      "execution_count": 40,
      "outputs": []
    },
    {
      "cell_type": "code",
      "metadata": {
        "colab": {
          "base_uri": "https://localhost:8080/"
        },
        "id": "7sWTCgtTNgec",
        "outputId": "896f4a3e-feab-48e5-f21e-f661f07faca2"
      },
      "source": [
        "print(df['ExterQual'].skew())\n",
        "print(np.power(df['ExterQual'],3).skew())\n",
        "df['ExterQual'] = np.power(df['ExterQual'],3)"
      ],
      "execution_count": 41,
      "outputs": [
        {
          "output_type": "stream",
          "text": [
            "-1.7424478915277075\n",
            "-0.5426462361775484\n"
          ],
          "name": "stdout"
        }
      ]
    },
    {
      "cell_type": "code",
      "metadata": {
        "colab": {
          "base_uri": "https://localhost:8080/"
        },
        "id": "eBP5ZDimRkzo",
        "outputId": "f208bf57-4868-4383-f645-1df56ca0b754"
      },
      "source": [
        "print(df['BsmtQual'].skew())\n",
        "print(np.power(df['BsmtQual'],3).skew())\n",
        "df['BsmtQual'] = np.power(df['BsmtQual'],3)"
      ],
      "execution_count": 42,
      "outputs": [
        {
          "output_type": "stream",
          "text": [
            "-1.3248563708313121\n",
            "0.034047223273505046\n"
          ],
          "name": "stdout"
        }
      ]
    },
    {
      "cell_type": "code",
      "metadata": {
        "colab": {
          "base_uri": "https://localhost:8080/"
        },
        "id": "oFNa6XcyR060",
        "outputId": "3c72382d-7658-439b-99d5-bc4056734ed8"
      },
      "source": [
        "print(df['KitchenQual'].skew())\n",
        "print(np.power(df['KitchenQual'],3).skew())\n",
        "df['KitchenQual'] = np.power(df['KitchenQual'],3)"
      ],
      "execution_count": 43,
      "outputs": [
        {
          "output_type": "stream",
          "text": [
            "-1.4613852403991585\n",
            "-0.12066680775822718\n"
          ],
          "name": "stdout"
        }
      ]
    },
    {
      "cell_type": "code",
      "metadata": {
        "id": "KWkGat3gsA7Y"
      },
      "source": [
        "x = df.drop('SalePrice',axis= 1)"
      ],
      "execution_count": 44,
      "outputs": []
    },
    {
      "cell_type": "code",
      "metadata": {
        "id": "7rsXfG38sAYc"
      },
      "source": [
        "y = df['SalePrice']"
      ],
      "execution_count": 45,
      "outputs": []
    },
    {
      "cell_type": "code",
      "metadata": {
        "id": "ODgPN_O0xKkM"
      },
      "source": [
        "score_dict = {'Model Name':['Best Score','Test Score']}"
      ],
      "execution_count": 46,
      "outputs": []
    },
    {
      "cell_type": "markdown",
      "metadata": {
        "id": "WVe7hX9KwHl1"
      },
      "source": [
        "# Linear Regression"
      ]
    },
    {
      "cell_type": "code",
      "metadata": {
        "id": "OA48IOVKv9Jg"
      },
      "source": [
        "x_train,x_test,y_train,y_test = train_test_split(x,y)\n",
        "scaler = StandardScaler()\n",
        "x_train = scaler.fit_transform(x_train)\n",
        "x_test = scaler.fit_transform(x_test)\n",
        "lr = LinearRegression()\n",
        "lr.fit(x_train, y_train)\n",
        "y_pred = lr.predict(x_test)\n",
        "score=r2_score(y_test,y_pred)"
      ],
      "execution_count": 47,
      "outputs": []
    },
    {
      "cell_type": "code",
      "metadata": {
        "id": "QXhFttwrxUYp"
      },
      "source": [
        "score_dict['Linear Regression'] = ['-',score]"
      ],
      "execution_count": 48,
      "outputs": []
    },
    {
      "cell_type": "markdown",
      "metadata": {
        "id": "5bjHbzVTHPRx"
      },
      "source": [
        "# Decision Tree Regressor"
      ]
    },
    {
      "cell_type": "code",
      "metadata": {
        "id": "5waPt2LQwVWn"
      },
      "source": [
        "x_train,x_test,y_train,y_test = train_test_split(x,y)\n",
        "scaler = StandardScaler()\n",
        "x_train = scaler.fit_transform(x_train)\n",
        "x_test = scaler.fit_transform(x_test)"
      ],
      "execution_count": 49,
      "outputs": []
    },
    {
      "cell_type": "code",
      "metadata": {
        "id": "70BpG2FNwWtZ"
      },
      "source": [
        "grid_param = {'min_samples_split': range(1,100,10), 'min_samples_leaf': range(1,100,10)}"
      ],
      "execution_count": 50,
      "outputs": []
    },
    {
      "cell_type": "code",
      "metadata": {
        "id": "h7esLTkOwdrb"
      },
      "source": [
        "gd_sr = GridSearchCV(estimator = DecisionTreeRegressor(),param_grid=grid_param,scoring='r2',cv=5,n_jobs=-1)"
      ],
      "execution_count": 51,
      "outputs": []
    },
    {
      "cell_type": "code",
      "metadata": {
        "colab": {
          "base_uri": "https://localhost:8080/"
        },
        "id": "U_CmtO-IwgrZ",
        "outputId": "76535b80-59ff-4192-e0ac-1740401f1ca8"
      },
      "source": [
        "gd_sr.fit(x_train, y_train)"
      ],
      "execution_count": 52,
      "outputs": [
        {
          "output_type": "execute_result",
          "data": {
            "text/plain": [
              "GridSearchCV(cv=5, error_score=nan,\n",
              "             estimator=DecisionTreeRegressor(ccp_alpha=0.0, criterion='mse',\n",
              "                                             max_depth=None, max_features=None,\n",
              "                                             max_leaf_nodes=None,\n",
              "                                             min_impurity_decrease=0.0,\n",
              "                                             min_impurity_split=None,\n",
              "                                             min_samples_leaf=1,\n",
              "                                             min_samples_split=2,\n",
              "                                             min_weight_fraction_leaf=0.0,\n",
              "                                             presort='deprecated',\n",
              "                                             random_state=None,\n",
              "                                             splitter='best'),\n",
              "             iid='deprecated', n_jobs=-1,\n",
              "             param_grid={'min_samples_leaf': range(1, 100, 10),\n",
              "                         'min_samples_split': range(1, 100, 10)},\n",
              "             pre_dispatch='2*n_jobs', refit=True, return_train_score=False,\n",
              "             scoring='r2', verbose=0)"
            ]
          },
          "metadata": {
            "tags": []
          },
          "execution_count": 52
        }
      ]
    },
    {
      "cell_type": "code",
      "metadata": {
        "colab": {
          "base_uri": "https://localhost:8080/"
        },
        "id": "lcMvZP5qwhh5",
        "outputId": "7c960d3c-0a3c-424e-de09-cae7585d125d"
      },
      "source": [
        "best_parameters = gd_sr.best_params_\n",
        "print(best_parameters)"
      ],
      "execution_count": 53,
      "outputs": [
        {
          "output_type": "stream",
          "text": [
            "{'min_samples_leaf': 1, 'min_samples_split': 41}\n"
          ],
          "name": "stdout"
        }
      ]
    },
    {
      "cell_type": "code",
      "metadata": {
        "colab": {
          "base_uri": "https://localhost:8080/"
        },
        "id": "8vwZvd7Uwn_2",
        "outputId": "8ead0d81-292e-43a8-e680-3d3b226ef4e9"
      },
      "source": [
        "best_result = gd_sr.best_score_\n",
        "print(best_result)"
      ],
      "execution_count": 54,
      "outputs": [
        {
          "output_type": "stream",
          "text": [
            "0.737149401420085\n"
          ],
          "name": "stdout"
        }
      ]
    },
    {
      "cell_type": "code",
      "metadata": {
        "id": "NSawwbbQHOSW"
      },
      "source": [
        "dtr = DecisionTreeRegressor(min_samples_split = best_parameters['min_samples_split'], min_samples_leaf = best_parameters['min_samples_leaf'])\n",
        "dtr.fit(x_train,y_train)\n",
        "y_pred = dtr.predict(x_test)\n",
        "score=r2_score(y_test,y_pred)"
      ],
      "execution_count": 55,
      "outputs": []
    },
    {
      "cell_type": "code",
      "metadata": {
        "id": "Wi51mtKvyWXq"
      },
      "source": [
        "score_dict['Decision Tree Regressor'] = [best_result,score]"
      ],
      "execution_count": 56,
      "outputs": []
    },
    {
      "cell_type": "markdown",
      "metadata": {
        "id": "TEy7S24cv96i"
      },
      "source": [
        "# KNighborsRegressor"
      ]
    },
    {
      "cell_type": "code",
      "metadata": {
        "id": "xDF3_okrr4N1"
      },
      "source": [
        "x_train,x_test,y_train,y_test = train_test_split(x,y)"
      ],
      "execution_count": 57,
      "outputs": []
    },
    {
      "cell_type": "code",
      "metadata": {
        "id": "SAdoXfp-XPrs"
      },
      "source": [
        "scaler = StandardScaler()\n",
        "x_train = scaler.fit_transform(x_train)\n",
        "x_test = scaler.fit_transform(x_test)"
      ],
      "execution_count": 58,
      "outputs": []
    },
    {
      "cell_type": "code",
      "metadata": {
        "id": "YMNgoZkKqr7V"
      },
      "source": [
        "grid_param = {'n_neighbors': range(1,15)}"
      ],
      "execution_count": 59,
      "outputs": []
    },
    {
      "cell_type": "code",
      "metadata": {
        "id": "B1YR4JWDrcpQ"
      },
      "source": [
        "gd_sr = GridSearchCV(estimator=KNeighborsRegressor(),param_grid=grid_param,scoring='r2',cv=5,n_jobs=-1)"
      ],
      "execution_count": 60,
      "outputs": []
    },
    {
      "cell_type": "code",
      "metadata": {
        "colab": {
          "base_uri": "https://localhost:8080/"
        },
        "id": "hm2DTKZFr092",
        "outputId": "94f79c48-1adf-40db-e3c7-2d5dfac565d5"
      },
      "source": [
        "gd_sr.fit(x_train, y_train)"
      ],
      "execution_count": 61,
      "outputs": [
        {
          "output_type": "execute_result",
          "data": {
            "text/plain": [
              "GridSearchCV(cv=5, error_score=nan,\n",
              "             estimator=KNeighborsRegressor(algorithm='auto', leaf_size=30,\n",
              "                                           metric='minkowski',\n",
              "                                           metric_params=None, n_jobs=None,\n",
              "                                           n_neighbors=5, p=2,\n",
              "                                           weights='uniform'),\n",
              "             iid='deprecated', n_jobs=-1,\n",
              "             param_grid={'n_neighbors': range(1, 15)}, pre_dispatch='2*n_jobs',\n",
              "             refit=True, return_train_score=False, scoring='r2', verbose=0)"
            ]
          },
          "metadata": {
            "tags": []
          },
          "execution_count": 61
        }
      ]
    },
    {
      "cell_type": "code",
      "metadata": {
        "colab": {
          "base_uri": "https://localhost:8080/"
        },
        "id": "Cu6Mgrw1saOq",
        "outputId": "4823ec4f-2ff0-42f5-cf8e-3eb6918f8dbc"
      },
      "source": [
        "best_parameters = gd_sr.best_params_\n",
        "print(best_parameters)"
      ],
      "execution_count": 62,
      "outputs": [
        {
          "output_type": "stream",
          "text": [
            "{'n_neighbors': 12}\n"
          ],
          "name": "stdout"
        }
      ]
    },
    {
      "cell_type": "code",
      "metadata": {
        "colab": {
          "base_uri": "https://localhost:8080/"
        },
        "id": "efEyCx9JshT5",
        "outputId": "198c5a35-dfd2-4b71-f0d3-bba5b34b8740"
      },
      "source": [
        "best_result = gd_sr.best_score_\n",
        "print(best_result)"
      ],
      "execution_count": 63,
      "outputs": [
        {
          "output_type": "stream",
          "text": [
            "0.7870364963964411\n"
          ],
          "name": "stdout"
        }
      ]
    },
    {
      "cell_type": "code",
      "metadata": {
        "colab": {
          "base_uri": "https://localhost:8080/"
        },
        "id": "tvToO8jYsivI",
        "outputId": "f594126a-9e3f-4fb3-d9d8-4a2df64f523f"
      },
      "source": [
        "knnr = KNeighborsRegressor(n_neighbors=best_parameters['n_neighbors'])\n",
        "knnr.fit(x_train,y_train)"
      ],
      "execution_count": 64,
      "outputs": [
        {
          "output_type": "execute_result",
          "data": {
            "text/plain": [
              "KNeighborsRegressor(algorithm='auto', leaf_size=30, metric='minkowski',\n",
              "                    metric_params=None, n_jobs=None, n_neighbors=12, p=2,\n",
              "                    weights='uniform')"
            ]
          },
          "metadata": {
            "tags": []
          },
          "execution_count": 64
        }
      ]
    },
    {
      "cell_type": "code",
      "metadata": {
        "id": "bBNcFzaysy-R"
      },
      "source": [
        "y_pred = knnr.predict(x_test)"
      ],
      "execution_count": 65,
      "outputs": []
    },
    {
      "cell_type": "code",
      "metadata": {
        "id": "jBufD8fzs2i1"
      },
      "source": [
        "score=r2_score(y_test,y_pred)"
      ],
      "execution_count": 66,
      "outputs": []
    },
    {
      "cell_type": "code",
      "metadata": {
        "id": "bAmZaIM9yYrl"
      },
      "source": [
        "score_dict['KNighborsRegressor'] = [best_result,score]"
      ],
      "execution_count": 67,
      "outputs": []
    },
    {
      "cell_type": "markdown",
      "metadata": {
        "id": "JvE9xWRHy6Gi"
      },
      "source": [
        "# RandomForestRegression"
      ]
    },
    {
      "cell_type": "code",
      "metadata": {
        "id": "dOU8jrRY3cSr"
      },
      "source": [
        "x_train,x_test,y_train,y_test = train_test_split(x,y)\n",
        "scaler = StandardScaler()\n",
        "x_train = scaler.fit_transform(x_train)\n",
        "x_test = scaler.fit_transform(x_test)"
      ],
      "execution_count": 68,
      "outputs": []
    },
    {
      "cell_type": "code",
      "metadata": {
        "id": "un9BSdyhy5IM"
      },
      "source": [
        "grid_param = {'n_estimators': range(100,1000,100)}"
      ],
      "execution_count": 69,
      "outputs": []
    },
    {
      "cell_type": "code",
      "metadata": {
        "id": "615aQY3UzROq"
      },
      "source": [
        "gd_sr = GridSearchCV(estimator=RandomForestRegressor(),param_grid=grid_param,scoring='r2',cv=5,n_jobs=-1)"
      ],
      "execution_count": 70,
      "outputs": []
    },
    {
      "cell_type": "code",
      "metadata": {
        "colab": {
          "base_uri": "https://localhost:8080/"
        },
        "id": "tLobP8-82ebS",
        "outputId": "53c6a395-3a26-42a6-da8a-3af931d773f9"
      },
      "source": [
        "gd_sr.fit(x_train, y_train)"
      ],
      "execution_count": 71,
      "outputs": [
        {
          "output_type": "execute_result",
          "data": {
            "text/plain": [
              "GridSearchCV(cv=5, error_score=nan,\n",
              "             estimator=RandomForestRegressor(bootstrap=True, ccp_alpha=0.0,\n",
              "                                             criterion='mse', max_depth=None,\n",
              "                                             max_features='auto',\n",
              "                                             max_leaf_nodes=None,\n",
              "                                             max_samples=None,\n",
              "                                             min_impurity_decrease=0.0,\n",
              "                                             min_impurity_split=None,\n",
              "                                             min_samples_leaf=1,\n",
              "                                             min_samples_split=2,\n",
              "                                             min_weight_fraction_leaf=0.0,\n",
              "                                             n_estimators=100, n_jobs=None,\n",
              "                                             oob_score=False, random_state=None,\n",
              "                                             verbose=0, warm_start=False),\n",
              "             iid='deprecated', n_jobs=-1,\n",
              "             param_grid={'n_estimators': range(100, 1000, 100)},\n",
              "             pre_dispatch='2*n_jobs', refit=True, return_train_score=False,\n",
              "             scoring='r2', verbose=0)"
            ]
          },
          "metadata": {
            "tags": []
          },
          "execution_count": 71
        }
      ]
    },
    {
      "cell_type": "code",
      "metadata": {
        "colab": {
          "base_uri": "https://localhost:8080/"
        },
        "id": "zbKLbZzu2h_R",
        "outputId": "3f7a85e8-160b-40a5-8e72-fb752e70d93c"
      },
      "source": [
        "best_parameters = gd_sr.best_params_\n",
        "print(best_parameters)"
      ],
      "execution_count": 72,
      "outputs": [
        {
          "output_type": "stream",
          "text": [
            "{'n_estimators': 500}\n"
          ],
          "name": "stdout"
        }
      ]
    },
    {
      "cell_type": "code",
      "metadata": {
        "colab": {
          "base_uri": "https://localhost:8080/"
        },
        "id": "5OYI3oUR2kW8",
        "outputId": "578f6115-1c2d-4ce2-c2d6-8f781b184fd3"
      },
      "source": [
        "best_result = gd_sr.best_score_\n",
        "print(best_result)"
      ],
      "execution_count": 73,
      "outputs": [
        {
          "output_type": "stream",
          "text": [
            "0.8197595201901988\n"
          ],
          "name": "stdout"
        }
      ]
    },
    {
      "cell_type": "code",
      "metadata": {
        "colab": {
          "base_uri": "https://localhost:8080/"
        },
        "id": "iUxFjnbv2mVN",
        "outputId": "77bb91ad-bf67-4587-faca-f84ff0e2a8f5"
      },
      "source": [
        "rfc = RandomForestRegressor(n_estimators=best_parameters['n_estimators'])\n",
        "rfc.fit(x_train,y_train)"
      ],
      "execution_count": 74,
      "outputs": [
        {
          "output_type": "execute_result",
          "data": {
            "text/plain": [
              "RandomForestRegressor(bootstrap=True, ccp_alpha=0.0, criterion='mse',\n",
              "                      max_depth=None, max_features='auto', max_leaf_nodes=None,\n",
              "                      max_samples=None, min_impurity_decrease=0.0,\n",
              "                      min_impurity_split=None, min_samples_leaf=1,\n",
              "                      min_samples_split=2, min_weight_fraction_leaf=0.0,\n",
              "                      n_estimators=500, n_jobs=None, oob_score=False,\n",
              "                      random_state=None, verbose=0, warm_start=False)"
            ]
          },
          "metadata": {
            "tags": []
          },
          "execution_count": 74
        }
      ]
    },
    {
      "cell_type": "code",
      "metadata": {
        "id": "XrhwpNdy2sJE"
      },
      "source": [
        "y_pred = rfc.predict(x_test)"
      ],
      "execution_count": 75,
      "outputs": []
    },
    {
      "cell_type": "code",
      "metadata": {
        "id": "l5OsEp-l20vm"
      },
      "source": [
        "score=r2_score(y_test,y_pred)"
      ],
      "execution_count": 76,
      "outputs": []
    },
    {
      "cell_type": "code",
      "metadata": {
        "id": "BZyjqJ7Byad5"
      },
      "source": [
        "score_dict['RandomForestRegression'] = [best_result,score]"
      ],
      "execution_count": 77,
      "outputs": []
    },
    {
      "cell_type": "markdown",
      "metadata": {
        "id": "yNxmesjFyVQg"
      },
      "source": [
        "# XGBoost"
      ]
    },
    {
      "cell_type": "code",
      "metadata": {
        "id": "dUSNx09OwrKD"
      },
      "source": [
        "data_dmatrix = DMatrix(data=x,label=y)"
      ],
      "execution_count": 78,
      "outputs": []
    },
    {
      "cell_type": "code",
      "metadata": {
        "id": "VlkMWuTFycJg"
      },
      "source": [
        "x_train,x_test,y_train,y_test = train_test_split(x,y)\n",
        "scaler = StandardScaler()\n",
        "x_train = scaler.fit_transform(x_train)\n",
        "x_test = scaler.fit_transform(x_test)"
      ],
      "execution_count": 79,
      "outputs": []
    },
    {
      "cell_type": "code",
      "metadata": {
        "id": "aqNU-Zan23JM"
      },
      "source": [
        "grid_param = {'n_estimators': range(100,1000,100),'max_depth':range(0,10,1)}"
      ],
      "execution_count": 80,
      "outputs": []
    },
    {
      "cell_type": "code",
      "metadata": {
        "id": "D51aRVSK3CCi"
      },
      "source": [
        "gd_sr = GridSearchCV(estimator=XGBRegressor(objective ='reg:squarederror'),param_grid=grid_param,scoring='r2',cv=5,n_jobs=-1)"
      ],
      "execution_count": 81,
      "outputs": []
    },
    {
      "cell_type": "code",
      "metadata": {
        "colab": {
          "base_uri": "https://localhost:8080/"
        },
        "id": "hIw9knvG3QgF",
        "outputId": "634f44d5-55fb-4091-e0f2-26ab8e4807b0"
      },
      "source": [
        "gd_sr.fit(x_train, y_train)"
      ],
      "execution_count": 82,
      "outputs": [
        {
          "output_type": "execute_result",
          "data": {
            "text/plain": [
              "GridSearchCV(cv=5, error_score=nan,\n",
              "             estimator=XGBRegressor(base_score=0.5, booster='gbtree',\n",
              "                                    colsample_bylevel=1, colsample_bynode=1,\n",
              "                                    colsample_bytree=1, gamma=0,\n",
              "                                    importance_type='gain', learning_rate=0.1,\n",
              "                                    max_delta_step=0, max_depth=3,\n",
              "                                    min_child_weight=1, missing=None,\n",
              "                                    n_estimators=100, n_jobs=1, nthread=None,\n",
              "                                    objective='reg:squarederror',\n",
              "                                    random_state=0, reg_alpha=0, reg_lambda=1,\n",
              "                                    scale_pos_weight=1, seed=None, silent=None,\n",
              "                                    subsample=1, verbosity=1),\n",
              "             iid='deprecated', n_jobs=-1,\n",
              "             param_grid={'max_depth': range(0, 10),\n",
              "                         'n_estimators': range(100, 1000, 100)},\n",
              "             pre_dispatch='2*n_jobs', refit=True, return_train_score=False,\n",
              "             scoring='r2', verbose=0)"
            ]
          },
          "metadata": {
            "tags": []
          },
          "execution_count": 82
        }
      ]
    },
    {
      "cell_type": "code",
      "metadata": {
        "colab": {
          "base_uri": "https://localhost:8080/"
        },
        "id": "9EwPMWRw3Vbf",
        "outputId": "dcc807db-a31d-4a7a-8e09-04ba906711a6"
      },
      "source": [
        "best_parameters = gd_sr.best_params_\n",
        "print(best_parameters)"
      ],
      "execution_count": 83,
      "outputs": [
        {
          "output_type": "stream",
          "text": [
            "{'max_depth': 2, 'n_estimators': 200}\n"
          ],
          "name": "stdout"
        }
      ]
    },
    {
      "cell_type": "code",
      "metadata": {
        "colab": {
          "base_uri": "https://localhost:8080/"
        },
        "id": "nwGu5ebn3Zkb",
        "outputId": "6bef9912-c912-4d76-a87c-869f4f59e1e9"
      },
      "source": [
        "best_result = gd_sr.best_score_\n",
        "print(best_result)"
      ],
      "execution_count": 84,
      "outputs": [
        {
          "output_type": "stream",
          "text": [
            "0.8438837179991274\n"
          ],
          "name": "stdout"
        }
      ]
    },
    {
      "cell_type": "code",
      "metadata": {
        "id": "ltpQWg_zy4_y"
      },
      "source": [
        "xg_reg = XGBRegressor(objective ='reg:squarederror',n_estimators=best_parameters['n_estimators'],max_depth=best_parameters['max_depth'])"
      ],
      "execution_count": 85,
      "outputs": []
    },
    {
      "cell_type": "code",
      "metadata": {
        "colab": {
          "base_uri": "https://localhost:8080/"
        },
        "id": "PIg7Xyegzead",
        "outputId": "d9bebafd-6ef5-4fc9-b5f8-e43d0ce1aa1d"
      },
      "source": [
        "xg_reg.fit(x_train,y_train)"
      ],
      "execution_count": 86,
      "outputs": [
        {
          "output_type": "execute_result",
          "data": {
            "text/plain": [
              "XGBRegressor(base_score=0.5, booster='gbtree', colsample_bylevel=1,\n",
              "             colsample_bynode=1, colsample_bytree=1, gamma=0,\n",
              "             importance_type='gain', learning_rate=0.1, max_delta_step=0,\n",
              "             max_depth=2, min_child_weight=1, missing=None, n_estimators=200,\n",
              "             n_jobs=1, nthread=None, objective='reg:squarederror',\n",
              "             random_state=0, reg_alpha=0, reg_lambda=1, scale_pos_weight=1,\n",
              "             seed=None, silent=None, subsample=1, verbosity=1)"
            ]
          },
          "metadata": {
            "tags": []
          },
          "execution_count": 86
        }
      ]
    },
    {
      "cell_type": "code",
      "metadata": {
        "id": "Jy2LtrlqzigK"
      },
      "source": [
        "y_pred = xg_reg.predict(x_test)"
      ],
      "execution_count": 87,
      "outputs": []
    },
    {
      "cell_type": "code",
      "metadata": {
        "id": "lx_eEyQ5zu8R"
      },
      "source": [
        "score=r2_score(y_test,y_pred)"
      ],
      "execution_count": 88,
      "outputs": []
    },
    {
      "cell_type": "code",
      "metadata": {
        "id": "5zbAJ9HRyb2u"
      },
      "source": [
        "score_dict['XGBoost'] = [best_result,score]"
      ],
      "execution_count": 89,
      "outputs": []
    },
    {
      "cell_type": "code",
      "metadata": {
        "colab": {
          "base_uri": "https://localhost:8080/",
          "height": 204
        },
        "id": "fT8jaL_AzAhj",
        "outputId": "33375b61-fc8b-4b72-9d64-188741f72478"
      },
      "source": [
        "score_table = pd.DataFrame(score_dict).T\n",
        "score_table.columns = score_table.iloc[0]\n",
        "score_table = score_table.drop(score_table.index[0])\n",
        "score_table"
      ],
      "execution_count": 90,
      "outputs": [
        {
          "output_type": "execute_result",
          "data": {
            "text/html": [
              "<div>\n",
              "<style scoped>\n",
              "    .dataframe tbody tr th:only-of-type {\n",
              "        vertical-align: middle;\n",
              "    }\n",
              "\n",
              "    .dataframe tbody tr th {\n",
              "        vertical-align: top;\n",
              "    }\n",
              "\n",
              "    .dataframe thead th {\n",
              "        text-align: right;\n",
              "    }\n",
              "</style>\n",
              "<table border=\"1\" class=\"dataframe\">\n",
              "  <thead>\n",
              "    <tr style=\"text-align: right;\">\n",
              "      <th>Model Name</th>\n",
              "      <th>Best Score</th>\n",
              "      <th>Test Score</th>\n",
              "    </tr>\n",
              "  </thead>\n",
              "  <tbody>\n",
              "    <tr>\n",
              "      <th>Linear Regression</th>\n",
              "      <td>-</td>\n",
              "      <td>0.88291</td>\n",
              "    </tr>\n",
              "    <tr>\n",
              "      <th>Decision Tree Regressor</th>\n",
              "      <td>0.737149</td>\n",
              "      <td>0.754093</td>\n",
              "    </tr>\n",
              "    <tr>\n",
              "      <th>KNighborsRegressor</th>\n",
              "      <td>0.787036</td>\n",
              "      <td>0.823118</td>\n",
              "    </tr>\n",
              "    <tr>\n",
              "      <th>RandomForestRegression</th>\n",
              "      <td>0.81976</td>\n",
              "      <td>0.826562</td>\n",
              "    </tr>\n",
              "    <tr>\n",
              "      <th>XGBoost</th>\n",
              "      <td>0.843884</td>\n",
              "      <td>0.858976</td>\n",
              "    </tr>\n",
              "  </tbody>\n",
              "</table>\n",
              "</div>"
            ],
            "text/plain": [
              "Model Name              Best Score Test Score\n",
              "Linear Regression                -    0.88291\n",
              "Decision Tree Regressor   0.737149   0.754093\n",
              "KNighborsRegressor        0.787036   0.823118\n",
              "RandomForestRegression     0.81976   0.826562\n",
              "XGBoost                   0.843884   0.858976"
            ]
          },
          "metadata": {
            "tags": []
          },
          "execution_count": 90
        }
      ]
    }
  ]
}