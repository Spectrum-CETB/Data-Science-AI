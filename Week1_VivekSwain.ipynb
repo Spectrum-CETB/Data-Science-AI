{
  "nbformat": 4,
  "nbformat_minor": 0,
  "metadata": {
    "colab": {
      "name": "Copy of Week_1_Assessment.ipynb",
      "provenance": [],
      "collapsed_sections": [],
      "toc_visible": true
    },
    "kernelspec": {
      "name": "python3",
      "display_name": "Python 3"
    }
  },
  "cells": [
    {
      "cell_type": "markdown",
      "metadata": {
        "id": "cR-dxFx1hb8h"
      },
      "source": [
        "##Using file handling, extract and read data from the data.txt file, and store that in a list."
      ]
    },
    {
      "cell_type": "code",
      "metadata": {
        "id": "qefHJlTOd8K2",
        "outputId": "e50392c0-662c-4d3b-e9dc-31542f23e623",
        "colab": {
          "base_uri": "https://localhost:8080/"
        }
      },
      "source": [
        "with open('data.txt') as d:\n",
        "  listItems = d.read().split() #Splitting of the individual elements \n",
        "  listItems = [int(i) for i in listItems] #Converting each string element to int\n",
        "  print(listItems)\n",
        "\n",
        "   \n"
      ],
      "execution_count": null,
      "outputs": [
        {
          "output_type": "stream",
          "text": [
            "[3, 4, 7, 9, 8, 10, 24, 985, 346, 793, 13, 47, 84, 102, 735, 1]\n"
          ],
          "name": "stdout"
        }
      ]
    },
    {
      "cell_type": "markdown",
      "metadata": {
        "id": "8dqDocrxr8DD"
      },
      "source": [
        ""
      ]
    },
    {
      "cell_type": "markdown",
      "metadata": {
        "id": "caXry11fhmWY"
      },
      "source": [
        "Q1 - Find out the mean and median of the data you extracted and stored in the list, without using any libraries."
      ]
    },
    {
      "cell_type": "code",
      "metadata": {
        "id": "YWsE7Wwyh1zV",
        "outputId": "d7422fe7-01ab-4553-eea2-e30245e275c9",
        "colab": {
          "base_uri": "https://localhost:8080/"
        }
      },
      "source": [
        "n = len(listItems) \n",
        "#Mean  \n",
        "sum = sum(listItems) \n",
        "mean = sum / n \n",
        "\n",
        "#Median\n",
        "listItems.sort() \n",
        "  \n",
        "if n % 2 == 0: \n",
        "    med1 = listItems[n//2] \n",
        "    med2 = listItems[n//2 - 1] \n",
        "    median = (med1 + med2)/2\n",
        "else: \n",
        "    median = listItems[n//2] \n",
        "\n",
        "print(\"Mean is: \" + str(mean))\n",
        "print(\"Median is: \" + str(median)) \n",
        "listItems"
      ],
      "execution_count": null,
      "outputs": [
        {
          "output_type": "stream",
          "text": [
            "Mean is: 198.1875\n",
            "Median is: 18.5\n"
          ],
          "name": "stdout"
        },
        {
          "output_type": "execute_result",
          "data": {
            "text/plain": [
              "[1, 3, 4, 7, 8, 9, 10, 13, 24, 47, 84, 102, 346, 735, 793, 985]"
            ]
          },
          "metadata": {
            "tags": []
          },
          "execution_count": 3
        }
      ]
    },
    {
      "cell_type": "markdown",
      "metadata": {
        "id": "tupwxozth2l4"
      },
      "source": [
        "Q2 - Divide the list into 2 separate lists, based on the median. The first list will have all numbers less than the median, and the 2nd list will have all the numbers greater than the median, including the median. Use list slicing to achieve this."
      ]
    },
    {
      "cell_type": "code",
      "metadata": {
        "id": "HE2TSNhRiKdY"
      },
      "source": [
        "x = [i for i in listItems if i<median]\n",
        "y = [i for i in listItems if i>=median]"
      ],
      "execution_count": null,
      "outputs": []
    },
    {
      "cell_type": "markdown",
      "metadata": {
        "id": "lvyc83TikMqI"
      },
      "source": [
        "###Given below is a dictionary containing the details of people taking Covid-19 test."
      ]
    },
    {
      "cell_type": "code",
      "metadata": {
        "id": "Yri_6tcTkMCY",
        "outputId": "0490b934-02bf-463e-ee85-74fa8b29f019",
        "colab": {
          "base_uri": "https://localhost:8080/"
        }
      },
      "source": [
        "\"\"\"\n",
        "Key - name of the patient\n",
        "Values - array of \n",
        "                1 - Whether the patient has covid-19 or not\n",
        "                2 - The patient's age\n",
        "                3 - The temperature of the patient in Fahrenheit Scale\n",
        "\"\"\"\n",
        "details = {'Ratchel' : ['No', 24, 97], 'Shrek' : ['No', 31, 99], 'Gillard' : ['No', 21, 98], 'Rea' : ['Yes', 23, 102], 'Adam': ['No', 67, 95]}\n",
        "details"
      ],
      "execution_count": null,
      "outputs": [
        {
          "output_type": "execute_result",
          "data": {
            "text/plain": [
              "{'Adam': ['No', 67, 95],\n",
              " 'Gillard': ['No', 21, 98],\n",
              " 'Ratchel': ['No', 24, 97],\n",
              " 'Rea': ['Yes', 23, 102],\n",
              " 'Shrek': ['No', 31, 99]}"
            ]
          },
          "metadata": {
            "tags": []
          },
          "execution_count": 5
        }
      ]
    },
    {
      "cell_type": "markdown",
      "metadata": {
        "id": "zzyTdWgJl7nq"
      },
      "source": [
        "Q3 - From the above dictionary, list out all the people who don't have Covid-19, as well as their age lies in the range of 20 - 30 years old"
      ]
    },
    {
      "cell_type": "code",
      "metadata": {
        "id": "NHIlpRbdlhlP",
        "outputId": "82d515f7-21f4-4c2e-93b2-38953689eb5d",
        "colab": {
          "base_uri": "https://localhost:8080/"
        }
      },
      "source": [
        "\n",
        "x = details.values()\n",
        "it = iter(x)\n",
        "\n",
        "def get_key(val): \n",
        "    for key, value in details.items(): \n",
        "         if val == value: \n",
        "             return key \n",
        "l = []\n",
        "for m in it:\n",
        "  if (m[0] == 'No'):\n",
        "    if(m[1]>= 20 and m[1]<=30):\n",
        "      l.append(get_key(m))\n",
        "\n",
        "print(l)\n"
      ],
      "execution_count": null,
      "outputs": [
        {
          "output_type": "stream",
          "text": [
            "['Ratchel', 'Gillard']\n"
          ],
          "name": "stdout"
        }
      ]
    },
    {
      "cell_type": "markdown",
      "metadata": {
        "id": "WYb85dXOmWKZ"
      },
      "source": [
        "Q4 - Sort the above dictionary in decreasing order on the basis of their temperatures."
      ]
    },
    {
      "cell_type": "code",
      "metadata": {
        "id": "C75_fuYOmV1i",
        "outputId": "13a7d49c-a668-4cc5-8094-b7f975f40f1b",
        "colab": {
          "base_uri": "https://localhost:8080/"
        }
      },
      "source": [
        "a = sorted(details.items(), key=lambda x: x[1][2] , reverse =True)    \n",
        "print(a)"
      ],
      "execution_count": null,
      "outputs": [
        {
          "output_type": "stream",
          "text": [
            "[('Rea', ['Yes', 23, 102]), ('Shrek', ['No', 31, 99]), ('Gillard', ['No', 21, 98]), ('Ratchel', ['No', 24, 97]), ('Adam', ['No', 67, 95])]\n"
          ],
          "name": "stdout"
        }
      ]
    },
    {
      "cell_type": "markdown",
      "metadata": {
        "id": "l2NABanfnDvJ"
      },
      "source": [
        "##Q5 - Write a simple python script to accept a string as input, and find those words which appear more than 2 times in the string.\n",
        "\n",
        "E.g. - What profession did Harvard call the Sexiest Job of the 21st Century? That’s right… the data scientist. Ah yes, the ever mysterious data scientist. So what exactly is the data scientist’s secret sauce, and what does this “sexy” person actually do at work every day? This article is intended to help define the data scientist role, including typical skills, qualifications, education, experience, and responsibilities. This definition is somewhat loose since there really isn’t a standardized definition of the data scientist role, and given that the ideal experience and skill set is relatively rare to find in one individual. This definition can be further confused by the fact that there are other roles sometimes thought of as the same, but are often quite different. Some of these include data analyst, data engineer, and so on. More on that later.\n",
        "\n",
        "Output - \n",
        "what\n",
        "the\n",
        "of\n",
        "data\n",
        "is\n",
        "and\n",
        "this\n",
        "definition\n",
        "that"
      ]
    },
    {
      "cell_type": "code",
      "metadata": {
        "id": "ahsM1DCArpfc",
        "outputId": "08a1f219-a56e-4c3e-d1c0-a638749b9130",
        "colab": {
          "base_uri": "https://localhost:8080/"
        }
      },
      "source": [
        "\n",
        "from collections import Counter\n",
        "\n",
        "\n",
        "sentence = input('Enter a sentence: ')\n",
        "sentence1 = sentence[:-1] \n",
        "words = sentence1.lower().split()\n",
        "a = Counter(words)\n",
        "l=[]\n",
        "for word in a:\n",
        "  if (words.count(word)>2):\n",
        "    l.append(word)\n",
        "\n",
        "s = \" \".join(l)\n",
        "print(l)\n",
        "print(s)\n"
      ],
      "execution_count": 27,
      "outputs": [
        {
          "output_type": "stream",
          "text": [
            "Enter a sentence:  What profession did Harvard call the Sexiest Job of the 21st Century? That’s right… the data scientist. Ah yes, the ever mysterious data scientist. So what exactly is the data scientist’s secret sauce, and what does this “sexy” person actually do at work every day? This article is intended to help define the data scientist role, including typical skills, qualifications, education, experience, and responsibilities. This definition is somewhat loose since there really isn’t a standardized definition of the data scientist role, and given that the ideal experience and skill set is relatively rare to find in one individual. This definition can be further confused by the fact that there are other roles sometimes thought of as the same, but are often quite different. Some of these include data analyst, data engineer, and so on. More on that later.\n",
            "['what', 'the', 'of', 'data', 'is', 'and', 'this', 'definition', 'that']\n",
            "what the of data is and this definition that\n"
          ],
          "name": "stdout"
        }
      ]
    }
  ]
}